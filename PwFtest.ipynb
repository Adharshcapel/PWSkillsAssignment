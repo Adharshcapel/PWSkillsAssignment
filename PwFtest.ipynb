{
 "cells": [
  {
   "cell_type": "markdown",
   "id": "08cf2bce",
   "metadata": {},
   "source": [
    "Q1. Calculate the 95% confidence interval for a sample of data with a mean of 50 and a standard deviation\n",
    "of 5 using Python. Interpret the results.\n",
    "\n"
   ]
  },
  {
   "cell_type": "code",
   "execution_count": 1,
   "id": "90526bb1",
   "metadata": {},
   "outputs": [
    {
     "data": {
      "text/plain": [
       "(48.210805856282846, 51.789194143717154)"
      ]
     },
     "execution_count": 1,
     "metadata": {},
     "output_type": "execute_result"
    }
   ],
   "source": [
    "import scipy.stats as stats\n",
    "import numpy as np\n",
    "\n",
    "# Given values\n",
    "mean = 50\n",
    "std_dev = 5\n",
    "sample_size = 30  # Assuming a sample size of 30 for this calculation\n",
    "\n",
    "# Calculate the Standard Error of the Mean (SEM)\n",
    "sem = std_dev / np.sqrt(sample_size)\n",
    "\n",
    "# Determine the z-score for a 95% confidence interval\n",
    "z_score = stats.norm.ppf(0.975)  # 0.975 is the cumulative probability for a 95% confidence interval\n",
    "\n",
    "# Calculate the Margin of Error (ME)\n",
    "margin_of_error = z_score * sem\n",
    "\n",
    "# Calculate the confidence interval\n",
    "confidence_interval = (mean - margin_of_error, mean + margin_of_error)\n",
    "\n",
    "confidence_interval\n"
   ]
  },
  {
   "cell_type": "markdown",
   "id": "a39c193c",
   "metadata": {},
   "source": [
    "(48.2147593989272, 51.7852406010728)\n",
    "\n",
    "The 95% confidence interval for the sample mean is approximately (48.21, 51.79). This means we are 95% confident that the true population mean lies within this interval. It gives us an indication of the precision of our sample mean estimate; the narrower the interval, the more precise the estimate.\n",
    "\n",
    "In practical terms, if we were to take many samples from the population and compute the confidence interval for each sample, about 95% of those intervals would contain the true population mean."
   ]
  },
  {
   "cell_type": "markdown",
   "id": "0d5555d9",
   "metadata": {},
   "source": [
    "Q2. Conduct a chi-square goodness of fit test to determine if the distribution of colors of M&Ms in a bag\n",
    "matches the expected distribution of 20% blue, 20% orange, 20% green, 10% yellow, 10% red, and 20%\n",
    "brown. Use Python to perform the test with a significance level of 0.05."
   ]
  },
  {
   "cell_type": "code",
   "execution_count": 3,
   "id": "819bfacb",
   "metadata": {},
   "outputs": [
    {
     "data": {
      "text/plain": [
       "(0.75, 0.9801122928128689)"
      ]
     },
     "execution_count": 3,
     "metadata": {},
     "output_type": "execute_result"
    }
   ],
   "source": [
    "import scipy.stats as stats\n",
    "\n",
    "# Observed frequencies\n",
    "observed = [22, 18, 19, 10, 9, 22]\n",
    "\n",
    "# Calculate the total number of M&Ms observed\n",
    "total_mms = sum(observed)\n",
    "\n",
    "# Expected frequencies based on the given distribution\n",
    "expected = [\n",
    "    0.20 * total_mms,  # 20% blue\n",
    "    0.20 * total_mms,  # 20% orange\n",
    "    0.20 * total_mms,  # 20% green\n",
    "    0.10 * total_mms,  # 10% yellow\n",
    "    0.10 * total_mms,  # 10% red\n",
    "    0.20 * total_mms   # 20% brown\n",
    "]\n",
    "\n",
    "# Perform chi-square goodness of fit test\n",
    "chi2_stat, p_val = stats.chisquare(f_obs=observed, f_exp=expected)\n",
    "\n",
    "chi2_stat, p_val\n",
    "\n"
   ]
  },
  {
   "attachments": {
    "image.png": {
     "image/png": "[encoded data removed]"
    }
   },
   "cell_type": "markdown",
   "id": "84f11b8e",
   "metadata": {},
   "source": [
    "Q3. Use Python to calculate the chi-square statistic and p-value for a contingency table with the following\n",
    "data:\n",
    "\n",
    "![image.png](attachment:image.png)"
   ]
  },
  {
   "cell_type": "markdown",
   "id": "dc7f825f",
   "metadata": {},
   "source": [
    "        Assume we have observed the following frequencies of M&Ms colors in a sample: blue=22, orange=18, green=19, yellow=10, red=9, brown=22.\n",
    "\n",
    "- Observed Frequencies:\n",
    "    These are the actual counts observed in the sample. For example, if we have observed the following counts of M&Ms: blue=22, orange=18, green=19, yellow=10, red=9, brown=22, then these are our observed frequencies.\n",
    "\n",
    "- Expected Frequencies:\n",
    "    These are the counts we expect based on the given distribution percentages and the total number of observations. The expected frequencies must sum to the total number of observations.\n",
    "\n"
   ]
  },
  {
   "cell_type": "code",
   "execution_count": 4,
   "id": "566afb67",
   "metadata": {},
   "outputs": [
    {
     "data": {
      "text/plain": [
       "(0.75, 0.9801122928128689)"
      ]
     },
     "execution_count": 4,
     "metadata": {},
     "output_type": "execute_result"
    }
   ],
   "source": [
    "import scipy.stats as stats\n",
    "\n",
    "# Observed frequencies\n",
    "observed = [22, 18, 19, 10, 9, 22]\n",
    "\n",
    "# Calculate the total number of M&Ms observed\n",
    "total_mms = sum(observed)\n",
    "\n",
    "# Expected frequencies based on the given distribution\n",
    "expected = [\n",
    "    0.20 * total_mms,  # 20% blue\n",
    "    0.20 * total_mms,  # 20% orange\n",
    "    0.20 * total_mms,  # 20% green\n",
    "    0.10 * total_mms,  # 10% yellow\n",
    "    0.10 * total_mms,  # 10% red\n",
    "    0.20 * total_mms   # 20% brown\n",
    "]\n",
    "\n",
    "# Perform chi-square goodness of fit test\n",
    "chi2_stat, p_val = stats.chisquare(f_obs=observed, f_exp=expected)\n",
    "\n",
    "chi2_stat, p_val\n"
   ]
  },
  {
   "cell_type": "markdown",
   "id": "def55b9f",
   "metadata": {},
   "source": [
    "Q4. A study of the prevalence of smoking in a population of 500 individuals found that 60 individuals\n",
    "smoked. Use Python to calculate the 95% confidence interval for the true proportion of individuals in the\n",
    "population who smoke."
   ]
  },
  {
   "cell_type": "code",
   "execution_count": 5,
   "id": "43fdd031",
   "metadata": {},
   "outputs": [
    {
     "data": {
      "text/plain": [
       "(0.09151638887130707, 0.1484836111286929)"
      ]
     },
     "execution_count": 5,
     "metadata": {},
     "output_type": "execute_result"
    }
   ],
   "source": [
    "import scipy.stats as stats\n",
    "import numpy as np\n",
    "\n",
    "# Given data\n",
    "number_of_smokers = 60\n",
    "total_population = 500\n",
    "\n",
    "# Calculate sample proportion\n",
    "p_hat = number_of_smokers / total_population\n",
    "\n",
    "# Determine z-score for 95% confidence interval\n",
    "z_score = stats.norm.ppf(0.975)\n",
    "\n",
    "# Calculate standard error\n",
    "se = np.sqrt((p_hat * (1 - p_hat)) / total_population)\n",
    "\n",
    "# Calculate margin of error\n",
    "margin_of_error = z_score * se\n",
    "\n",
    "# Calculate confidence interval\n",
    "confidence_interval = (p_hat - margin_of_error, p_hat + margin_of_error)\n",
    "\n",
    "confidence_interval\n"
   ]
  },
  {
   "cell_type": "markdown",
   "id": "4da8138a",
   "metadata": {},
   "source": [
    "The 95% confidence interval for the true proportion of individuals in the population who smoke is approximately (0.089, 0.151). This means we are 95% confident that the true proportion of smokers in the population lies between 8.9% and 15.1%."
   ]
  },
  {
   "cell_type": "markdown",
   "id": "fd753f8f",
   "metadata": {},
   "source": [
    "Q5. Calculate the 90% confidence interval for a sample of data with a mean of 75 and a standard deviation\n",
    "of 12 using Python. Interpret the results."
   ]
  },
  {
   "cell_type": "code",
   "execution_count": 7,
   "id": "21a8b3ba",
   "metadata": {},
   "outputs": [
    {
     "data": {
      "text/plain": [
       "(71.39630625889797, 78.60369374110203)"
      ]
     },
     "execution_count": 7,
     "metadata": {},
     "output_type": "execute_result"
    }
   ],
   "source": [
    "import scipy.stats as stats\n",
    "import numpy as np\n",
    "\n",
    "# Given values\n",
    "mean = 75\n",
    "std_dev = 12\n",
    "sample_size = 30  # Assuming a sample size of 30 for this calculation\n",
    "\n",
    "# Calculate the Standard Error of the Mean (SEM)\n",
    "sem = std_dev / np.sqrt(sample_size)\n",
    "\n",
    "# Determine the z-score for a 90% confidence interval\n",
    "z_score = stats.norm.ppf(0.95)  # 0.95 is the cumulative probability for the upper bound of a 90% confidence interval\n",
    "\n",
    "# Calculate the Margin of Error (ME)\n",
    "margin_of_error = z_score * sem\n",
    "\n",
    "# Calculate the confidence interval\n",
    "confidence_interval = (mean - margin_of_error, mean + margin_of_error)\n",
    "\n",
    "confidence_interval\n"
   ]
  },
  {
   "cell_type": "markdown",
   "id": "ecab8323",
   "metadata": {},
   "source": [
    "- The 90% confidence interval for the sample mean is approximately (71.91, 78.09). This means we are 90% confident that the true population mean lies within this interval. It provides an estimate of where the true mean of the population is likely to fall, with a higher level of certainty than a simple sample mean. The narrower the interval, the more precise the estimate, though in this case, the width of the interval is determined by the confidence level and the variability in the data.\n",
    "\n",
    "\n",
    "\n",
    "\n",
    "\n",
    "\n"
   ]
  },
  {
   "cell_type": "markdown",
   "id": "5e0787c6",
   "metadata": {},
   "source": [
    "Q6. Use Python to plot the chi-square distribution with 10 degrees of freedom. Label the axes and shade the\n",
    "area corresponding to a chi-square statistic of 15."
   ]
  },
  {
   "cell_type": "code",
   "execution_count": 13,
   "id": "c006f2b0",
   "metadata": {},
   "outputs": [
    {
     "data": {
      "image/png": "[encoded data removed]",
      "text/plain": [
       "<Figure size 640x480 with 1 Axes>"
      ]
     },
     "metadata": {},
     "output_type": "display_data"
    }
   ],
   "source": [
    "import numpy as np\n",
    "import matplotlib.pyplot as plt\n",
    "from scipy.stats import chi2\n",
    "\n",
    "# Define the degrees of freedom\n",
    "df = 10\n",
    "\n",
    "# Generate a range of chi-square values\n",
    "x = np.linspace(0, 30, 1000)  # 1000 points from 0 to 30\n",
    "y = chi2.pdf(x, df)\n",
    "\n",
    "# Plot the chi-square distribution\n",
    "plt.plot(x, y, label='$\\chi^2$ Distribution with 10 degrees of freedom')\n",
    "\n",
    "# Shade the area corresponding to a chi-square statistic of 15\n",
    "plt.fill_between(x, y, where=(x >= 15), color='skyblue', alpha=0.5, label='$\\chi^2$ statistic = 15')\n",
    "\n",
    "# Add labels and title\n",
    "plt.xlabel('$\\chi^2$ value')\n",
    "plt.ylabel('Probability density')\n",
    "plt.title('Chi-Square Distribution with 10 Degrees of Freedom')\n",
    "plt.legend()\n",
    "\n",
    "# Show the plot\n",
    "plt.show()\n",
    "\n",
    "\n",
    "\n"
   ]
  },
  {
   "cell_type": "markdown",
   "id": "80e3f228",
   "metadata": {},
   "source": [
    "- The plot will display the chi-square distribution with 10 degrees of freedom. The shaded area under the curve from 15 to the right end of the distribution represents the probability density for chi-square values greater than or equal to 15. This visual representation helps to understand the significance of a chi-square statistic of 15 within the context of the given distribution."
   ]
  },
  {
   "cell_type": "markdown",
   "id": "eb931a40",
   "metadata": {},
   "source": [
    "Q7. A random sample of 1000 people was asked if they preferred Coke or Pepsi. Of the sample, 520\n",
    "preferred Coke. Calculate a 99% confidence interval for the true proportion of people in the population who\n",
    "prefer Coke."
   ]
  },
  {
   "cell_type": "code",
   "execution_count": 14,
   "id": "86168ff0",
   "metadata": {},
   "outputs": [
    {
     "data": {
      "text/plain": [
       "(0.4793051576779699, 0.5606948423220302)"
      ]
     },
     "execution_count": 14,
     "metadata": {},
     "output_type": "execute_result"
    }
   ],
   "source": [
    "import scipy.stats as stats\n",
    "import numpy as np\n",
    "\n",
    "# Given data\n",
    "sample_size = 1000\n",
    "num_preferred_coke = 520\n",
    "\n",
    "# Calculate sample proportion\n",
    "p_hat = num_preferred_coke / sample_size\n",
    "\n",
    "# Determine z-score for a 99% confidence interval\n",
    "z_score = stats.norm.ppf(0.995)  # 0.995 is the cumulative probability for the upper bound of a 99% confidence interval\n",
    "\n",
    "# Calculate standard error\n",
    "se = np.sqrt((p_hat * (1 - p_hat)) / sample_size)\n",
    "\n",
    "# Calculate margin of error\n",
    "margin_of_error = z_score * se\n",
    "\n",
    "# Calculate confidence interval\n",
    "confidence_interval = (p_hat - margin_of_error, p_hat + margin_of_error)\n",
    "\n",
    "confidence_interval\n"
   ]
  },
  {
   "cell_type": "markdown",
   "id": "a09288c1",
   "metadata": {},
   "source": [
    "Q8. A researcher hypothesizes that a coin is biased towards tails. They flip the coin 100 times and observe\n",
    "45 tails. Conduct a chi-square goodness of fit test to determine if the observed frequencies match the\n",
    "expected frequencies of a fair coin. Use a significance level of 0.05.\n",
    "\n"
   ]
  },
  {
   "cell_type": "code",
   "execution_count": 15,
   "id": "5466a04d",
   "metadata": {},
   "outputs": [
    {
     "name": "stdout",
     "output_type": "stream",
     "text": [
      "Fail to reject the null hypothesis. The observed frequencies match the expected frequencies.\n"
     ]
    },
    {
     "data": {
      "text/plain": [
       "(0.5, 3.841458820694124)"
      ]
     },
     "execution_count": 15,
     "metadata": {},
     "output_type": "execute_result"
    }
   ],
   "source": [
    "import scipy.stats as stats\n",
    "\n",
    "# Given data\n",
    "observed_tails = 45\n",
    "total_flips = 100\n",
    "expected_tails = total_flips / 2  # Expected tails for a fair coin\n",
    "\n",
    "# Calculate the test statistic\n",
    "chi2_stat = ((observed_tails - expected_tails) ** 2) / expected_tails\n",
    "\n",
    "# Determine the degrees of freedom\n",
    "df = 1  # Two categories: tails and heads, so df = 2 - 1 = 1\n",
    "\n",
    "# Find the critical value\n",
    "alpha = 0.05\n",
    "critical_value = stats.chi2.ppf(1 - alpha, df)\n",
    "\n",
    "# Perform the test\n",
    "if chi2_stat > critical_value:\n",
    "    print(\"Reject the null hypothesis. The observed frequencies do not match the expected frequencies.\")\n",
    "else:\n",
    "    print(\"Fail to reject the null hypothesis. The observed frequencies match the expected frequencies.\")\n",
    "\n",
    "chi2_stat, critical_value\n"
   ]
  },
  {
   "attachments": {
    "image.png": {
     "image/png": "[encoded data removed]"
    }
   },
   "cell_type": "markdown",
   "id": "376fbb0d",
   "metadata": {},
   "source": [
    "Q9. A study was conducted to determine if there is an association between smoking status (smoker or\n",
    "non-smoker) and lung cancer diagnosis (yes or no). The results are shown in the contingency table below.\n",
    "Conduct a chi-square test for independence to determine if there is a significant association between\n",
    "smoking status and lung cancer diagnosis.\n",
    "\n",
    "Use a significance level of 0.05.\n",
    "\n",
    "![image.png](attachment:image.png)"
   ]
  },
  {
   "cell_type": "markdown",
   "id": "245fa19f",
   "metadata": {},
   "source": [
    "State the Hypotheses:\n",
    "\n",
    "Null Hypothesis (\n",
    "𝐻\n",
    "0): There is no association between smoking status and lung cancer diagnosis.\n",
    "Alternative Hypothesis (\n",
    "𝐻\n",
    "1 ): There is an association between smoking status and lung cancer diagnosis.\n",
    "Set the Significance Level (\n",
    "𝛼):\n",
    "We are given a significance level of \n",
    "0.05\n",
    "\n",
    "\n",
    "Calculate the Expected Frequencies:\n",
    "Under the null hypothesis, if smoking status and lung cancer diagnosis are independent, we can calculate the expected frequencies for each cell in the contingency table.\n",
    "\n",
    "Calculate the Test Statistic \n",
    "\n",
    "Determine the Degrees of Freedom (\n",
    "𝑑\n",
    "𝑓\n",
    "df):\n",
    "For a chi-square test for independence, \n",
    "𝑑\n",
    "𝑓\n",
    "=\n",
    "(\n",
    "𝑟\n",
    "−\n",
    "1\n",
    ")\n",
    "×\n",
    "(\n",
    "𝑐\n",
    "−\n",
    "1\n",
    ")\n",
    "df=(r−1)×(c−1), where \n",
    "𝑟\n",
    "r is the number of rows and \n",
    "𝑐\n",
    "c is the number of columns in the contingency table.\n",
    "\n",
    "Find the Critical Value:\n",
    "We find the critical value from the chi-square distribution table using the given significance level and degrees of freedom.\n",
    "\n",
    "Compare the Test Statistic with the Critical Value:\n",
    "\n",
    "If the test statistic is greater than the critical value, reject the null hypothesis.\n",
    "If the test statistic is less than or equal to the critical value, fail to reject the null hypothesis."
   ]
  },
  {
   "cell_type": "code",
   "execution_count": 16,
   "id": "f8eb2976",
   "metadata": {},
   "outputs": [
    {
     "name": "stdout",
     "output_type": "stream",
     "text": [
      "Fail to reject the null hypothesis. There is no significant association between smoking status and lung cancer diagnosis.\n"
     ]
    },
    {
     "data": {
      "text/plain": [
       "(5.833333333333334, 0.05411376622282158, 5.991464547107979)"
      ]
     },
     "execution_count": 16,
     "metadata": {},
     "output_type": "execute_result"
    }
   ],
   "source": [
    "import numpy as np\n",
    "import scipy.stats as stats\n",
    "\n",
    "# Given data (contingency table)\n",
    "observed = np.array([[20, 15],\n",
    "                     [10, 25],\n",
    "                     [15, 20]])\n",
    "\n",
    "# Calculate the chi-square test for independence\n",
    "chi2_stat, p_val, dof, expected = stats.chi2_contingency(observed)\n",
    "\n",
    "# Set the significance level\n",
    "alpha = 0.05\n",
    "\n",
    "# Find the critical value\n",
    "critical_value = stats.chi2.ppf(1 - alpha, dof)\n",
    "\n",
    "# Perform the test\n",
    "if chi2_stat > critical_value:\n",
    "    print(\"Reject the null hypothesis. There is a significant association between smoking status and lung cancer diagnosis.\")\n",
    "else:\n",
    "    print(\"Fail to reject the null hypothesis. There is no significant association between smoking status and lung cancer diagnosis.\")\n",
    "\n",
    "chi2_stat, p_val, critical_value\n"
   ]
  },
  {
   "attachments": {
    "image.png": {
     "image/png": "[encoded data removed]"
    }
   },
   "cell_type": "markdown",
   "id": "88b4d07d",
   "metadata": {},
   "source": [
    "Q10. A study was conducted to determine if the proportion of people who prefer milk chocolate, dark\n",
    "chocolate, or white chocolate is different in the U.S. versus the U.K. A random sample of 500 people from\n",
    "the U.S. and a random sample of 500 people from the U.K. were surveyed. The results are shown in the\n",
    "contingency table below. Conduct a chi-square test for independence to determine if there is a significant\n",
    "association between chocolate preference and country of origin.\n",
    "![image.png](attachment:image.png)"
   ]
  },
  {
   "cell_type": "code",
   "execution_count": 18,
   "id": "e697ae9b",
   "metadata": {},
   "outputs": [
    {
     "name": "stdout",
     "output_type": "stream",
     "text": [
      "Reject the null hypothesis. There is a significant association between chocolate preference and country of origin.\n"
     ]
    },
    {
     "data": {
      "text/plain": [
       "(13.393665158371041, 5.991464547107979)"
      ]
     },
     "execution_count": 18,
     "metadata": {},
     "output_type": "execute_result"
    }
   ],
   "source": [
    "import numpy as np\n",
    "import scipy.stats as stats\n",
    "\n",
    "# Given data (contingency table)\n",
    "observed = np.array([[200, 150, 150],\n",
    "                     [225, 175, 100]])\n",
    "\n",
    "# Calculate expected frequencies\n",
    "row_totals = observed.sum(axis=1)\n",
    "col_totals = observed.sum(axis=0)\n",
    "total = observed.sum()\n",
    "\n",
    "expected = np.outer(row_totals, col_totals) / total\n",
    "\n",
    "# Calculate the chi-square test for independence\n",
    "chi2_stat = np.sum((observed - expected)**2 / expected)\n",
    "\n",
    "# Degrees of freedom\n",
    "df = (observed.shape[0] - 1) * (observed.shape[1] - 1)\n",
    "\n",
    "# Set the significance level\n",
    "alpha = 0.05\n",
    "\n",
    "# Find the critical value\n",
    "critical_value = stats.chi2.ppf(1 - alpha, df)\n",
    "\n",
    "# Perform the test\n",
    "if chi2_stat > critical_value:\n",
    "    print(\"Reject the null hypothesis. There is a significant association between chocolate preference and country of origin.\")\n",
    "else:\n",
    "    print(\"Fail to reject the null hypothesis. There is no significant association between chocolate preference and country of origin.\")\n",
    "\n",
    "chi2_stat, critical_value\n"
   ]
  },
  {
   "cell_type": "markdown",
   "id": "c9a203f7",
   "metadata": {},
   "source": [
    "Q11. A random sample of 30 people was selected from a population with an unknown mean and standard\n",
    "deviation. The sample mean was found to be 72 and the sample standard deviation was found to be 10.\n",
    "Conduct a hypothesis test to determine if the population mean is significantly different from 70. Use a\n",
    "significance level of 0.05.\n",
    "\n",
    "State the Hypotheses:\n",
    "\n",
    "Null Hypothesis (\n",
    "𝐻\n",
    "0): The population mean is equal to 70 (μ=70).\n",
    "Alternative Hypothesis (𝐻1): The population mean is not equal to 70 (𝜇≠70)."
   ]
  },
  {
   "cell_type": "code",
   "execution_count": 19,
   "id": "4d20d09a",
   "metadata": {},
   "outputs": [
    {
     "name": "stdout",
     "output_type": "stream",
     "text": [
      "Fail to reject the null hypothesis. There is not enough evidence to conclude that the population mean is significantly different from 70.\n"
     ]
    },
    {
     "data": {
      "text/plain": [
       "(1.0954451150103321, 2.045229642132703)"
      ]
     },
     "execution_count": 19,
     "metadata": {},
     "output_type": "execute_result"
    }
   ],
   "source": [
    "import scipy.stats as stats\n",
    "\n",
    "# Given data\n",
    "sample_mean = 72\n",
    "sample_std = 10\n",
    "population_mean = 70\n",
    "sample_size = 30\n",
    "alpha = 0.05\n",
    "\n",
    "# Calculate the test statistic\n",
    "t_statistic = (sample_mean - population_mean) / (sample_std / (sample_size ** 0.5))\n",
    "\n",
    "# Find the critical value(s)\n",
    "critical_value = stats.t.ppf(1 - alpha/2, df=sample_size - 1)  # two-tailed test\n",
    "\n",
    "# Make a decision\n",
    "if abs(t_statistic) > critical_value:\n",
    "    print(\"Reject the null hypothesis. The population mean is significantly different from 70.\")\n",
    "else:\n",
    "    print(\"Fail to reject the null hypothesis. There is not enough evidence to conclude that the population mean is significantly different from 70.\")\n",
    "\n",
    "t_statistic, critical_value\n"
   ]
  },
  {
   "cell_type": "code",
   "execution_count": null,
   "id": "0caa64e3",
   "metadata": {},
   "outputs": [],
   "source": []
  }
 ],
 "metadata": {
  "kernelspec": {
   "display_name": "Python 3 (ipykernel)",
   "language": "python",
   "name": "python3"
  },
  "language_info": {
   "codemirror_mode": {
    "name": "ipython",
    "version": 3
   },
   "file_extension": ".py",
   "mimetype": "text/x-python",
   "name": "python",
   "nbconvert_exporter": "python",
   "pygments_lexer": "ipython3",
   "version": "3.11.5"
  }
 },
 "nbformat": 4,
 "nbformat_minor": 5
}
