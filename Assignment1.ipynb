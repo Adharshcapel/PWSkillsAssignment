{
 "cells": [
  {
   "cell_type": "markdown",
   "metadata": {},
   "source": [
    "# Assigment 1\n",
    "Q1. What are the characteristics of the tuples? Is tuple immutable?\n",
    "    In Python, a tuple is an ordered, immutable sequence of elements. This means that once a tuple is created, it cannot be modified.\n",
    "\n",
    "    Some characteristics of tuples include:\n",
    "\n",
    "    Tuples are defined using parentheses () or the tuple() function\n",
    "    Elements in a tuple are separated by commas\n",
    "    Tuples can contain elements of different types, including other tuples\n",
    "    Tuples can be accessed using indexing or slicing, just like lists\n",
    "    Tuples are often used to group related data together, such as a name and age or latitude and longitude coordinates\n",
    "    \n",
    "    \n",
    "    Because tuples are immutable, they are useful in situations where you want to ensure that the contents of the sequence cannot be changed accidentally. For example, you might use a tuple to represent a set of configuration values that should not be altered while the program is running.\n"
   ]
  },
  {
   "attachments": {},
   "cell_type": "markdown",
   "metadata": {},
   "source": [
    "Q2. What are the two tuple methods in python? Give an example of each method. Give a reason why\n",
    "tuples have only two in-built methods as compared to Lists.\n",
    "\n",
    "In Python, tuples have two built-in methods:\n",
    "\n",
    "count(): This method takes a single argument and returns the number of times that argument appears in the tuple. For example:\n",
    "\n",
    "index(): This method takes a single argument and returns the index of the first occurrence of that argument in the tuple. \n",
    "\n",
    "The reason why tuples have only two built-in methods as compared to lists is because tuples are immutable, meaning that they cannot be modified once they are created. Lists, on the other hand, are mutable and have many built-in methods that allow for adding, removing, and modifying elements. Since tuples cannot be modified, they do not need as many built-in methods as lists. The count() and index() methods are typically all that is needed to work with tuples.\n",
    "\n",
    "\n"
   ]
  },
  {
   "cell_type": "code",
   "execution_count": 1,
   "metadata": {},
   "outputs": [
    {
     "data": {
      "text/plain": [
       "{1, 2, 3, 4}"
      ]
     },
     "execution_count": 1,
     "metadata": {},
     "output_type": "execute_result"
    }
   ],
   "source": [
    "'''Write a code using a set to remove duplicates from the given list.'''\n",
    "List = [1, 1, 1, 2, 1, 3, 1, 4, 2, 1, 2, 2, 2, 3, 2, 4, 3, 1, 3, 2, 3, 3, 3, 4, 4, 1, 4, 2, 4, 3, 4, 4]\n",
    "List=set(List)\n",
    "List"
   ]
  },
  {
   "attachments": {},
   "cell_type": "markdown",
   "metadata": {},
   "source": [
    "Q4. Explain the difference between the union() and update() methods for a set. Give an example of\n",
    "each method.\n",
    "In Python, sets have two methods that can be used to combine sets: union() and update().\n",
    "\n",
    "The union() method returns a new set that contains all the unique elements from both sets. It does not modify either of the original sets. For example:\n",
    "\n",
    "set1 = {1, 2, 3}\n",
    "set2 = {2, 3, 4}\n",
    "union_set = set1.union(set2)\n",
    "Output: {1, 2, 3, 4}\n",
    "\n",
    "The update() method, on the other hand, adds all the unique elements from a given set to the original set. It modifies the original set, rather than creating a new set. For example:\n",
    "\n",
    "set1 = {1, 2, 3}\n",
    "set2 = {2, 3, 4}\n",
    "set1.update(set2)\n",
    "\n",
    "Output: {1, 2, 3, 4}"
   ]
  },
  {
   "attachments": {},
   "cell_type": "markdown",
   "metadata": {},
   "source": [
    "Q5. What is a dictionary? Give an example. Also, state whether a dictionary is ordered or unordered.\n",
    "\n",
    "In Python, a dictionary is a collection datatype that stores key-value pairs. Each key-value pair is separated by a colon and the pairs are separated by commas. Dictionaries are also sometimes referred to as associative arrays, maps, or hash tables.\n",
    "\n",
    "Here's an example of a dictionary in Python\n",
    "\n",
    "dict = {'apple': 3, 'banana': 5, 'orange': 2}\n",
    "\n",
    "Dictionaries in Python are unordered, meaning that the order in which the key-value pairs are stored is not guaranteed. However, starting from Python 3.7, dictionaries are guaranteed to maintain the insertion order of their items. If you need an ordered dictionary, you can use the collections.OrderedDict class."
   ]
  },
  {
   "attachments": {},
   "cell_type": "markdown",
   "metadata": {},
   "source": [
    "Q6. Can we create a nested dictionary? If so, please give an example by creating a simple one-level\n",
    "nested dictionary\n",
    "\n",
    "Yes, we can create a nested dictionary in Python. A nested dictionary is simply a dictionary where the values are themselves dictionaries.\n",
    "\n",
    "Here's an example of a simple one-level nested dictionary in Python:\n",
    "\n"
   ]
  },
  {
   "cell_type": "code",
   "execution_count": 3,
   "metadata": {},
   "outputs": [],
   "source": [
    "'''Here's an example of a simple one-level nested dictionary in Python:\n",
    "'''\n",
    "dict={\"key\":{\"nest1\":[1,3],\"nest2\":[1,4]}}"
   ]
  },
  {
   "cell_type": "code",
   "execution_count": 6,
   "metadata": {},
   "outputs": [
    {
     "data": {
      "text/plain": [
       "{'language': 'Python',\n",
       " 'course': 'Data Science Masters',\n",
       " 'topics': ['Python', 'Machine Learning', 'Deep Learning']}"
      ]
     },
     "execution_count": 6,
     "metadata": {},
     "output_type": "execute_result"
    }
   ],
   "source": [
    "'''Q7. Using setdefault() method, create key named topics in the given dictionary and also add the value of\n",
    "the key as this list ['Python', 'Machine Learning’, 'Deep Learning']'''\n",
    "\n",
    "dict1 = {'language' : 'Python', 'course': 'Data Science Masters'}\n",
    "dict1.setdefault('topics',['Python', 'Machine Learning', 'Deep Learning'])\n",
    "dict1"
   ]
  },
  {
   "attachments": {},
   "cell_type": "markdown",
   "metadata": {},
   "source": [
    "Q8. What are the three view objects in dictionaries? Use the three in-built methods in python to display\n",
    "these three view objects for the given dictionary.\n",
    "\n",
    "In Python, dictionaries have three types of view objects that allow us to access the keys, values, and key-value pairs in the dictionary:\n",
    "\n",
    "dict_keys: a view object that contains the keys in the dictionary\n",
    "dict_values: a view object that contains the values in the dictionary\n",
    "dict_items: a view object that contains the key-value pairs in the dictionary"
   ]
  },
  {
   "cell_type": "code",
   "execution_count": 8,
   "metadata": {},
   "outputs": [
    {
     "name": "stdout",
     "output_type": "stream",
     "text": [
      "<built-in method keys of dict object at 0x000001840A9861C0> <built-in method values of dict object at 0x000001840A9861C0> <built-in method items of dict object at 0x000001840A9861C0>\n"
     ]
    }
   ],
   "source": [
    "dict1 = {'Sport': 'Cricket' , 'Teams': ['India', 'Australia', 'England', 'South Africa', 'Sri Lanka', 'New Zealand']}\n",
    "key=dict1.keys\n",
    "value=dict1.values\n",
    "items=dict1.items\n",
    "print(key,value,items)"
   ]
  },
  {
   "cell_type": "code",
   "execution_count": 9,
   "metadata": {},
   "outputs": [
    {
     "name": "stdout",
     "output_type": "stream",
     "text": [
      "400\n",
      "(200, 300, 400)\n"
     ]
    }
   ],
   "source": [
    "atuple = (100, 200, 300, 400, 500)\n",
    "\n",
    "print(atuple[-2])\n",
    "\n",
    "print(atuple[-4:-1])\n",
    "\n",
    " "
   ]
  },
  {
   "cell_type": "code",
   "execution_count": 10,
   "metadata": {},
   "outputs": [
    {
     "name": "stdout",
     "output_type": "stream",
     "text": [
      "None\n"
     ]
    }
   ],
   "source": [
    "dict1 = {\"name\": \"Mike\", \"salary\": 8000}\n",
    "\n",
    "temp = dict1.get(\"age\")\n",
    "\n",
    "print(temp)"
   ]
  },
  {
   "cell_type": "code",
   "execution_count": 11,
   "metadata": {},
   "outputs": [
    {
     "name": "stdout",
     "output_type": "stream",
     "text": [
      "True\n"
     ]
    }
   ],
   "source": [
    "dict1 = {\"key1\":1, \"key2\":2}\n",
    "\n",
    "dict2 = {\"key2\":2, \"key1\":1}\n",
    "\n",
    "print(dict1 == dict2)"
   ]
  },
  {
   "cell_type": "code",
   "execution_count": 12,
   "metadata": {},
   "outputs": [
    {
     "name": "stdout",
     "output_type": "stream",
     "text": [
      "{'Blue', 'Pink'}\n"
     ]
    }
   ],
   "source": [
    "set1 = {\"Yellow\", \"Orange\", \"Black\"}\n",
    "\n",
    "set2 = {\"Orange\", \"Blue\", \"Pink\"}\n",
    "\n",
    "set3 = set2.difference(set1)\n",
    "\n",
    "print(set3)"
   ]
  },
  {
   "cell_type": "markdown",
   "metadata": {},
   "source": []
  }
 ],
 "metadata": {
  "kernelspec": {
   "display_name": "base",
   "language": "python",
   "name": "python3"
  },
  "language_info": {
   "codemirror_mode": {
    "name": "ipython",
    "version": 3
   },
   "file_extension": ".py",
   "mimetype": "text/x-python",
   "name": "python",
   "nbconvert_exporter": "python",
   "pygments_lexer": "ipython3",
   "version": "3.8.5"
  },
  "orig_nbformat": 4
 },
 "nbformat": 4,
 "nbformat_minor": 2
}
