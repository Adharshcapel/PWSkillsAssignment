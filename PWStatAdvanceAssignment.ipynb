{
 "cells": [
  {
   "cell_type": "markdown",
   "id": "12c500dc",
   "metadata": {},
   "source": [
    "Q1. What is the Probability density function?\n",
    "\n",
    "- The Probability Density Function (PDF) is a concept used in probability to describe the likelihood of a continuous random variable taking on a particular value within a given range.\n",
    "\n",
    "   \n",
    "   In simple terms, it gives the probability of a random variable falling within a particular interval. Unlike the Probability Mass Function (PMF), which is used for discrete random variables, the PDF applies to continuous random variables."
   ]
  },
  {
   "cell_type": "markdown",
   "id": "acc7ebf0",
   "metadata": {},
   "source": [
    "Q2. What are the types of Probability distribution?\n",
    "\n",
    "    Probability distributions are mathematical functions that describe the likelihood of different outcomes or values occurring for a random variable. There are numerous types of probability distributions, each with its own characteristics and applications. Here are some common types:\n",
    "\n",
    "- Discrete Distributions:\n",
    "\n",
    "     -  Bernoulli Distribution: Describes the probability of success or failure in a single trial (binary outcome).\n",
    "           \n",
    "     - Binomial Distribution: Models the number of successes in a fixed number of independent Bernoulli trials.\n",
    "           \n",
    "     - Poisson Distribution: Represents the number of events occurring in a fixed interval of time or space, given a constant rate of occurrence.\n",
    "           \n",
    "- Continuous Distributions:\n",
    "\n",
    "     -  Normal (Gaussian) Distribution: Often referred to as the bell curve, it's characterized by its symmetric shape and is commonly used due to the Central Limit Theorem.\n",
    "     - Uniform Distribution: All outcomes in a given range are equally likely."
   ]
  },
  {
   "cell_type": "markdown",
   "id": "721b2d63",
   "metadata": {},
   "source": [
    "Q3. Write a Python function to calculate the probability density function of a normal distribution with\n",
    "given mean and standard deviation at a given point.\n",
    "\n",
    "import math\n",
    "\n",
    "def normal_pdf(x, mean, std_dev):\n",
    "  \n",
    "    coefficient = 1 / (std_dev * math.sqrt(2 * math.pi))\n",
    "    exponent = -0.5 * ((x - mean) / std_dev) ** 2\n",
    "    pdf_value = coefficient * math.exp(exponent)\n",
    "    return pdf_value\n",
    "    \n",
    "- x: The point at which to calculate the PDF.\n",
    "- mean: The mean (average) of the normal distribution.\n",
    "- std_dev: The standard deviation of the normal distribution."
   ]
  },
  {
   "cell_type": "markdown",
   "id": "a097edfd",
   "metadata": {},
   "source": [
    "Q4. What are the properties of Binomial distribution? Give two examples of events where binomial\n",
    "distribution can be applied.\n",
    "\n",
    "    The Binomial distribution is a discrete probability distribution that describes the number of successes in a fixed number of independent Bernoulli trials, where each trial has two possible outcomes: success or failure. The properties of the Binomial distribution include:\n",
    "- Fixed Number of Trials: The number of trials, denoted by n, is fixed in advance.\n",
    "- Independent Trials: Each trial is independent of the others.\n",
    "- Two Possible Outcomes: Each trial results in either a success or a failure.\n",
    "- Constant Probability of Success: The probability of success, denoted by, same for each trial.\n",
    "- Discrete Probability Distribution: The Binomial random variable represents a count of successes, so it takes on only integer values.\n",
    " \n",
    "        Examples of events where the Binomial distribution can be applied include:\n",
    "\n",
    "- Coin Flips: Suppose you flip a fair coin (where the probability of getting heads,p, is 0.5) ten times.We can use the Binomial distribution to calculate the probability of getting a certain number of heads (successes) out of the ten flips.\n",
    "\n",
    "- Medical Trials: In a medical trial, patients are either cured or not cured by a new treatment. If the probability of a patient being cured by the treatment is known, and each patient is treated independently, you can model the number of patients cured out of a fixed number of trials using a Binomial distribution."
   ]
  },
  {
   "cell_type": "code",
   "execution_count": 1,
   "id": "095abaa2",
   "metadata": {},
   "outputs": [
    {
     "data": {
      "image/png": "[encoded data removed]",
      "text/plain": [
       "<Figure size 640x480 with 1 Axes>"
      ]
     },
     "metadata": {},
     "output_type": "display_data"
    }
   ],
   "source": [
    "Q5. Generate a random sample of size 1000 from a binomial distribution with probability of success 0.4\n",
    "and plot a histogram of the results using matplotlib.\n",
    "\n",
    "import numpy as np\n",
    "import matplotlib.pyplot as plt\n",
    "\n",
    "# Parameters\n",
    "n = 1000  # Sample size\n",
    "p = 0.4   # Probability of success\n",
    "\n",
    "# Generate random sample from Binomial distribution\n",
    "sample = np.random.binomial(n=1, p=p, size=1000)\n",
    "\n",
    "# Plot histogram\n",
    "plt.hist(sample, bins=[-0.5, 0.5, 1.5], edgecolor='black', alpha=0.7)\n",
    "plt.xticks([0, 1], ['Failure', 'Success'])\n",
    "plt.xlabel('Outcome')\n",
    "plt.ylabel('Frequency')\n",
    "plt.title('Histogram of Binomial Distribution (n=1000, p=0.4)')\n",
    "plt.grid(True)\n",
    "plt.show()\n"
   ]
  },
  {
   "cell_type": "code",
   "execution_count": 2,
   "id": "c00cf8f6",
   "metadata": {},
   "outputs": [
    {
     "name": "stdout",
     "output_type": "stream",
     "text": [
      "CDF at point 2 : 0.42319008112684353\n"
     ]
    }
   ],
   "source": [
    "Q6. Write a Python function to calculate the cumulative distribution function of a Poisson distribution\n",
    "with given mean at a given point.\n",
    "\n",
    "import math\n",
    "\n",
    "def poisson_cdf(k, mean):\n",
    "    \"\"\"\n",
    "    Calculate the cumulative distribution function (CDF) of a Poisson distribution\n",
    "    at a given point k with specified mean.\n",
    "\n",
    "    Parameters:\n",
    "    k (int): The point at which to calculate the CDF.\n",
    "    mean (float): The mean of the Poisson distribution.\n",
    "\n",
    "    Returns:\n",
    "    float: The value of the CDF at the given point k.\n",
    "    \"\"\"\n",
    "    if k < 0:\n",
    "        return 0.0  # CDF is 0 for negative values\n",
    "\n",
    "    cdf = 0.0\n",
    "    for i in range(k + 1):\n",
    "        cdf += (math.exp(-mean) * (mean ** i)) / math.factorial(i)\n",
    "\n",
    "    return cdf\n",
    "\n",
    "# Example usage:\n",
    "mean = 3\n",
    "point = 2\n",
    "cdf_at_point = poisson_cdf(point, mean)\n",
    "print(\"CDF at point\", point, \":\", cdf_at_point)\n"
   ]
  },
  {
   "cell_type": "markdown",
   "id": "490729d5",
   "metadata": {},
   "source": [
    "Q7. How Binomial distribution different from Poisson distribution?\n",
    "\n",
    "    The Binomial distribution and the Poisson distribution are both discrete probability distributions, but they are used to model different types of scenarios and have different characteristics. Here are the key differences between the two distributions:\n",
    "\n",
    "- Nature of Events:\n",
    "  - Binomial Distribution: The Binomial distribution models the number of successes in a fixed number of independent Bernoulli trials, where each trial has two possible outcomes (success or failure). The trials are independent, and the probability of success (𝑝p) is constant for each trial.\n",
    "  \n",
    "- Poisson Distribution: The Poisson distribution models the number of events occurring in a fixed interval of time or space, given a constant rate of occurrence (𝜆λ). The events are independent, and the probability of an event occurring is the same for any two intervals of equal length.\n",
    "\n",
    "- Number of Trials/Events:\n",
    "\n",
    "  - Binomial Distribution: The number of trials (𝑛n) is fixed and finite.\n",
    "  \n",
    "  - Poisson Distribution: There is no fixed number of trials/events. The distribution is defined over an infinite range of values (0, 1, 2, ...).\n",
    "\n",
    "- Parameters:\n",
    "\n",
    "  - Binomial Distribution: The Binomial distribution is characterized by two parameters: the number of trials (𝑛n) and the probability of success (𝑝p).\n",
    "  \n",
    "  - Poisson Distribution: The Poisson distribution is characterized by one parameter: the rate of occurrence (𝜆λ).\n",
    "\n",
    "- Shape:\n",
    "\n",
    "   -  Binomial Distribution: The shape of the Binomial distribution is symmetric or skewed depending on the values of 𝑛n and 𝑝p. As 𝑛 increases and/or 𝑝p approaches 0.5, the distribution becomes more symmetric.\n",
    "   \n",
    "    - Poisson Distribution: The Poisson distribution is often right-skewed, especially when the rate of occurrence (𝜆λ) is small.\n",
    "    \n",
    "- Limiting Behavior:\n",
    "\n",
    "   - Binomial Distribution: As the number of trials (𝑛n) increases and the probability of success (𝑝p) approaches 0 (or the rate of occurrence 𝑛𝑝 - remains constant), the Binomial distribution converges to the Poisson distribution.\n",
    "   \n",
    "   - Poisson Distribution: The Poisson distribution is often used as an approximation to the Binomial distribution when the number of trials is large and the probability of success is small, ensuring that the mean np remains constant."
   ]
  },
  {
   "cell_type": "code",
   "execution_count": 3,
   "id": "561813d2",
   "metadata": {},
   "outputs": [
    {
     "name": "stdout",
     "output_type": "stream",
     "text": [
      "Sample Mean: 4.959\n",
      "Sample Variance: 4.763318999999999\n"
     ]
    }
   ],
   "source": [
    "Q8. Generate a random sample of size 1000 from a Poisson distribution with mean 5 and calculate the\n",
    "sample mean and variance.\n",
    "\n",
    "import numpy as np\n",
    "\n",
    "# Parameters\n",
    "mean = 5\n",
    "sample_size = 1000\n",
    "\n",
    "# Generate random sample from Poisson distribution\n",
    "sample = np.random.poisson(mean, size=sample_size)\n",
    "\n",
    "# Calculate sample mean and variance\n",
    "sample_mean = np.mean(sample)\n",
    "sample_variance = np.var(sample)\n",
    "\n",
    "print(\"Sample Mean:\", sample_mean)\n",
    "print(\"Sample Variance:\", sample_variance)\n"
   ]
  },
  {
   "cell_type": "markdown",
   "id": "c986e5d1",
   "metadata": {},
   "source": [
    "Q9. How mean and variance are related in Binomial distribution and Poisson distribution?\n",
    "\n",
    "\n",
    "- In the Binomial distribution, the variance depends on both the number of trials and the probability of success, resulting in a wider range of possible values for the variance.\n",
    "- In the Poisson distribution, the variance is solely determined by the rate of occurrence, leading to a fixed relationship between the mean and the variance."
   ]
  },
  {
   "cell_type": "markdown",
   "id": "8f593c7d",
   "metadata": {},
   "source": [
    "Q10. In normal distribution with respect to mean position, where does the least frequent data appear?\n",
    "\n",
    "- In a normal distribution, also known as a Gaussian distribution, the least frequent data points occur at the extremes, furthest away from the mean.\n",
    "\n",
    "\n",
    "     - Since the normal distribution is symmetric about its mean, the least frequent data points appear at the tails of the distribution, specifically at the tails that are farthest from the mean. These points are located at the extremes of the distribution, where the probability density is lowest.\n",
    "     \n",
    "\n",
    "     - In a standard normal distribution (mean = 0, standard deviation = 1), the least frequent data points would be those that are farthest from the mean, which are the values at the tails beyond a certain number of standard deviations."
   ]
  },
  {
   "cell_type": "code",
   "execution_count": null,
   "id": "e2c405b2",
   "metadata": {},
   "outputs": [],
   "source": []
  }
 ],
 "metadata": {
  "kernelspec": {
   "display_name": "Python 3 (ipykernel)",
   "language": "python",
   "name": "python3"
  },
  "language_info": {
   "codemirror_mode": {
    "name": "ipython",
    "version": 3
   },
   "file_extension": ".py",
   "mimetype": "text/x-python",
   "name": "python",
   "nbconvert_exporter": "python",
   "pygments_lexer": "ipython3",
   "version": "3.11.5"
  }
 },
 "nbformat": 4,
 "nbformat_minor": 5
}
