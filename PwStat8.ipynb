{
 "cells": [
  {
   "cell_type": "markdown",
   "id": "e213a44d",
   "metadata": {},
   "source": [
    "Q1. Write a Python function that takes in two arrays of data and calculates the F-value for a variance ratio\n",
    "test. The function should return the F-value and the corresponding p-value for the test.\n",
    "\n"
   ]
  },
  {
   "cell_type": "code",
   "execution_count": 1,
   "id": "f1766637",
   "metadata": {},
   "outputs": [
    {
     "name": "stdout",
     "output_type": "stream",
     "text": [
      "F-value: 1.0, p-value: 1.0\n"
     ]
    }
   ],
   "source": [
    "import numpy as np\n",
    "from scipy.stats import f\n",
    "\n",
    "def variance_ratio_test(data1, data2):\n",
    "    # Calculate the sample variances\n",
    "    var1 = np.var(data1, ddof=1)\n",
    "    var2 = np.var(data2, ddof=1)\n",
    "    \n",
    "    # Sample sizes\n",
    "    n1 = len(data1)\n",
    "    n2 = len(data2)\n",
    "    \n",
    "    # Calculate the F-value\n",
    "    if var1 > var2:\n",
    "        F = var1 / var2\n",
    "        dfn = n1 - 1\n",
    "        dfd = n2 - 1\n",
    "    else:\n",
    "        F = var2 / var1\n",
    "        dfn = n2 - 1\n",
    "        dfd = n1 - 1\n",
    "    \n",
    "    # Calculate the p-value\n",
    "    p_value = 2 * min(f.cdf(F, dfn, dfd), 1 - f.cdf(F, dfn, dfd))\n",
    "    \n",
    "    return F, p_value\n",
    "\n",
    "# Example usage\n",
    "data1 = [10, 20, 30, 40, 50]\n",
    "data2 = [15, 25, 35, 45, 55]\n",
    "\n",
    "F_value, p_value = variance_ratio_test(data1, data2)\n",
    "print(f\"F-value: {F_value}, p-value: {p_value}\")\n"
   ]
  },
  {
   "cell_type": "markdown",
   "id": "d12a3929",
   "metadata": {},
   "source": [
    "Q2. Given a significance level of 0.05 and the degrees of freedom for the numerator and denominator of an\n",
    "F-distribution, write a Python function that returns the critical F-value for a two-tailed test.\n",
    "\n",
    "Adjust the significance level to account for the two tails (i.e., use \n",
    "α/2 for each tail).\n",
    "Use the inverse cumulative distribution function (also known as the percent point function, ppf) to find the critical value for the upper tail.\n"
   ]
  },
  {
   "cell_type": "code",
   "execution_count": 2,
   "id": "a6d8a0a5",
   "metadata": {},
   "outputs": [
    {
     "name": "stdout",
     "output_type": "stream",
     "text": [
      "Critical F-value for a two-tailed test: 4.236085668188633\n"
     ]
    }
   ],
   "source": [
    "from scipy.stats import f\n",
    "\n",
    "def critical_f_value(alpha, dfn, dfd):\n",
    "    # Adjust alpha for the two-tailed test\n",
    "    alpha = alpha / 2\n",
    "    \n",
    "    # Calculate the critical F-value for the upper tail\n",
    "    upper_critical_value = f.ppf(1 - alpha, dfn, dfd)\n",
    "    \n",
    "    # For a two-tailed test, we typically consider the symmetry and use only the upper critical value\n",
    "    return upper_critical_value\n",
    "\n",
    "# Example usage\n",
    "alpha = 0.05\n",
    "dfn = 5  # degrees of freedom for the numerator\n",
    "dfd = 10  # degrees of freedom for the denominator\n",
    "\n",
    "critical_value = critical_f_value(alpha, dfn, dfd)\n",
    "print(f\"Critical F-value for a two-tailed test: {critical_value}\")\n"
   ]
  },
  {
   "cell_type": "markdown",
   "id": "5ba3b35a",
   "metadata": {},
   "source": [
    "Q3. Write a Python program that generates random samples from two normal distributions with known variances and uses an F-test to determine if the variances are equal. The program should output the F-\n",
    "value, degrees of freedom, and p-value for the test."
   ]
  },
  {
   "cell_type": "code",
   "execution_count": 3,
   "id": "cfcd8e50",
   "metadata": {},
   "outputs": [
    {
     "name": "stdout",
     "output_type": "stream",
     "text": [
      "F-value: 2.251183215526366\n",
      "Degrees of freedom (numerator): 29\n",
      "Degrees of freedom (denominator): 29\n",
      "P-value: 0.032537120640975914\n"
     ]
    }
   ],
   "source": [
    "import numpy as np\n",
    "from scipy.stats import f\n",
    "\n",
    "# Function to perform the F-test\n",
    "def variance_ratio_test(data1, data2):\n",
    "    # Calculate the sample variances\n",
    "    var1 = np.var(data1, ddof=1)\n",
    "    var2 = np.var(data2, ddof=1)\n",
    "    \n",
    "    # Sample sizes\n",
    "    n1 = len(data1)\n",
    "    n2 = len(data2)\n",
    "    \n",
    "    # Calculate the F-value\n",
    "    if var1 > var2:\n",
    "        F = var1 / var2\n",
    "        dfn = n1 - 1\n",
    "        dfd = n2 - 1\n",
    "    else:\n",
    "        F = var2 / var1\n",
    "        dfn = n2 - 1\n",
    "        dfd = n1 - 1\n",
    "    \n",
    "    # Calculate the p-value\n",
    "    p_value = 2 * min(f.cdf(F, dfn, dfd), 1 - f.cdf(F, dfn, dfd))\n",
    "    \n",
    "    return F, dfn, dfd, p_value\n",
    "\n",
    "# Parameters for the normal distributions\n",
    "mean1, mean2 = 0, 0\n",
    "variance1, variance2 = 1, 2\n",
    "size1, size2 = 30, 30\n",
    "\n",
    "# Generate random samples\n",
    "data1 = np.random.normal(mean1, np.sqrt(variance1), size1)\n",
    "data2 = np.random.normal(mean2, np.sqrt(variance2), size2)\n",
    "\n",
    "# Perform the F-test\n",
    "F_value, dfn, dfd, p_value = variance_ratio_test(data1, data2)\n",
    "\n",
    "# Output the results\n",
    "print(f\"F-value: {F_value}\")\n",
    "print(f\"Degrees of freedom (numerator): {dfn}\")\n",
    "print(f\"Degrees of freedom (denominator): {dfd}\")\n",
    "print(f\"P-value: {p_value}\")\n"
   ]
  },
  {
   "cell_type": "markdown",
   "id": "c1017877",
   "metadata": {},
   "source": [
    "Generate Random Samples:\n",
    "\n",
    "- np.random.normal(mean, stddev, size) generates random samples from a normal distribution.\n",
    "\n",
    "- We use the square root of the variances (np.sqrt(variance)) to get the standard deviations for the normal distributions.\n",
    "\n",
    "- F-test Function:\n",
    "\n",
    "- variance_ratio_test calculates the F-value and degrees of freedom.\n",
    "- The sample variances are computed using np.var(data, ddof=1).\n",
    "- The F-value is the ratio of the larger variance to the smaller variance.\n",
    "- The p-value is calculated using the cumulative distribution function (CDF) of the F-distribution, considering a two-tailed test.\n"
   ]
  },
  {
   "cell_type": "markdown",
   "id": "7b396c40",
   "metadata": {},
   "source": [
    "Q4.The variances of two populations are known to be 10 and 15. A sample of 12 observations is taken from\n",
    "each population. Conduct an F-test at the 5% significance level to determine if the variances are\n",
    "significantly different."
   ]
  },
  {
   "cell_type": "code",
   "execution_count": 5,
   "id": "d2cf4fd8",
   "metadata": {},
   "outputs": [
    {
     "name": "stdout",
     "output_type": "stream",
     "text": [
      "F-value: 1.5\n",
      "Degrees of freedom (numerator): 11\n",
      "Degrees of freedom (denominator): 11\n",
      "Critical F-values: 0.28787755798459863, 3.473699051085809\n",
      "P-value: 0.5123897987357999\n",
      "Fail to reject the null hypothesis: The variances are not significantly different.\n"
     ]
    }
   ],
   "source": [
    "from scipy.stats import f\n",
    "\n",
    "# Given variances and sample sizes\n",
    "variance1 = 10\n",
    "variance2 = 15\n",
    "n1 = 12\n",
    "n2 = 12\n",
    "\n",
    "# Calculate the F-value\n",
    "if variance1 > variance2:\n",
    "    F = variance1 / variance2\n",
    "    dfn = n1 - 1\n",
    "    dfd = n2 - 1\n",
    "else:\n",
    "    F = variance2 / variance1\n",
    "    dfn = n2 - 1\n",
    "    dfd = n1 - 1\n",
    "\n",
    "# Significance level\n",
    "alpha = 0.05\n",
    "\n",
    "# Calculate critical F-values for a two-tailed test\n",
    "critical_value_lower = f.ppf(alpha / 2, dfn, dfd)\n",
    "critical_value_upper = f.ppf(1 - alpha / 2, dfn, dfd)\n",
    "\n",
    "# Calculate the p-value\n",
    "p_value = 2 * min(f.cdf(F, dfn, dfd), 1 - f.cdf(F, dfn, dfd))\n",
    "\n",
    "# Output the results\n",
    "print(f\"F-value: {F}\")\n",
    "print(f\"Degrees of freedom (numerator): {dfn}\")\n",
    "print(f\"Degrees of freedom (denominator): {dfd}\")\n",
    "print(f\"Critical F-values: {critical_value_lower}, {critical_value_upper}\")\n",
    "print(f\"P-value: {p_value}\")\n",
    "\n",
    "# Decision based on critical values\n",
    "if F < critical_value_lower or F > critical_value_upper:\n",
    "    print(\"Reject the null hypothesis: The variances are significantly different.\")\n",
    "else:\n",
    "    print(\"Fail to reject the null hypothesis: The variances are not significantly different.\")\n"
   ]
  },
  {
   "cell_type": "markdown",
   "id": "c1ec18a1",
   "metadata": {},
   "source": [
    "Q5. A manufacturer claims that the variance of the diameter of a certain product is 0.005. A sample of 25\n",
    "products is taken, and the sample variance is found to be 0.006. Conduct an F-test at the 1% significance\n",
    "level to determine if the claim is justified.\n",
    "\n",
    "To test the manufacturer's claim about the variance of the diameter using an F-test, we can compare the sample variance to the claimed population variance. The F-test compares two variances, so in this case, we can treat the claimed variance as one population and the sample variance as another.\n",
    "\n",
    "\n",
    " \n",
    "\n"
   ]
  },
  {
   "cell_type": "code",
   "execution_count": 6,
   "id": "15644bcf",
   "metadata": {},
   "outputs": [
    {
     "name": "stdout",
     "output_type": "stream",
     "text": [
      "F-value: 1.2\n",
      "Degrees of freedom (numerator): 24\n",
      "Degrees of freedom (denominator): 24\n",
      "Critical values: 0.3370701342685674, 2.966741631292762\n",
      "P-value: 0.6587309365634488\n",
      "Fail to reject the null hypothesis: The claimed variance is justified.\n"
     ]
    }
   ],
   "source": [
    "from scipy.stats import f\n",
    "\n",
    "# Given values\n",
    "claimed_variance = 0.005\n",
    "sample_variance = 0.006\n",
    "n = 25\n",
    "\n",
    "# Calculate the F-value\n",
    "F = sample_variance / claimed_variance\n",
    "\n",
    "# Degrees of freedom\n",
    "dfn = n - 1\n",
    "dfd = n - 1\n",
    "\n",
    "# Significance level\n",
    "alpha = 0.01\n",
    "\n",
    "# Critical values for a two-tailed test\n",
    "critical_value_lower = f.ppf(alpha / 2, dfn, dfd)\n",
    "critical_value_upper = f.ppf(1 - alpha / 2, dfn, dfd)\n",
    "\n",
    "# Calculate the p-value\n",
    "p_value = 2 * min(f.cdf(F, dfn, dfd), 1 - f.cdf(F, dfn, dfd))\n",
    "\n",
    "# Output the results\n",
    "print(f\"F-value: {F}\")\n",
    "print(f\"Degrees of freedom (numerator): {dfn}\")\n",
    "print(f\"Degrees of freedom (denominator): {dfd}\")\n",
    "print(f\"Critical values: {critical_value_lower}, {critical_value_upper}\")\n",
    "print(f\"P-value: {p_value}\")\n",
    "\n",
    "# Decision based on critical values\n",
    "if F < critical_value_lower or F > critical_value_upper:\n",
    "    print(\"Reject the null hypothesis: The claimed variance is not justified.\")\n",
    "else:\n",
    "    print(\"Fail to reject the null hypothesis: The claimed variance is justified.\")\n"
   ]
  },
  {
   "cell_type": "markdown",
   "id": "87af3f5e",
   "metadata": {},
   "source": [
    "- Calculate the F-value: We calculate the F-value as the ratio of the sample variance to the claimed population variance.\n",
    "\n",
    "- Degrees of Freedom: For both the sample and the claimed population, the degrees of freedom aren−1.\n",
    "\n",
    "- Critical Values: We use the ppf function from scipy.stats.f to get the critical values for the F-distribution at the 0.005 and 0.995 quantiles, corresponding to a two-tailed test with a 1% significance level.\n",
    "\n",
    "- P-value: The p-value is calculated using the cumulative distribution function (CDF) of the F-distribution.\n",
    "\n",
    "- Decision: We compare the calculated F-value to the critical values to determine whether to reject the null hypothesis."
   ]
  },
  {
   "cell_type": "markdown",
   "id": "29cf3460",
   "metadata": {},
   "source": [
    "Q6. Write a Python function that takes in the degrees of freedom for the numerator and denominator of an\n",
    "F-distribution and calculates the mean and variance of the distribution. The function should return the\n",
    "mean and variance as a tuple."
   ]
  },
  {
   "cell_type": "code",
   "execution_count": 10,
   "id": "5fdf5aa3",
   "metadata": {},
   "outputs": [
    {
     "name": "stdout",
     "output_type": "stream",
     "text": [
      "(1.25, 1.3541666666666667)\n"
     ]
    }
   ],
   "source": [
    "def f_distribution_mean_variance(dfn, dfd):\n",
    "    # Calculate the mean\n",
    "    if dfd > 2:\n",
    "        mean = dfd / (dfd - 2)\n",
    "    else:\n",
    "        mean = float('inf')  # Mean is undefined for dfd <= 2\n",
    "    \n",
    "    # Calculate the variance\n",
    "    if dfd > 4:\n",
    "        variance = (2 * dfd**2 * (dfn + dfd - 2)) / (dfn * (dfd - 2)**2 * (dfd - 4))\n",
    "    else:\n",
    "        variance = float('inf')  # Variance is undefined for dfd <= 4\n",
    "    \n",
    "    return (mean, variance)\n",
    "\n",
    "# Example usage\n",
    "dfn = 5  # degrees of freedom for the numerator\n",
    "dfd = 10  # degrees of freedom for the denominator\n",
    "\n",
    "result = f_distribution_mean_variance(dfn, dfd)\n",
    "print(result)  # This will print the tuple containing mean and variance\n"
   ]
  },
  {
   "cell_type": "markdown",
   "id": "8f24f95c",
   "metadata": {},
   "source": [
    "Q7. A random sample of 10 measurements is taken from a normal population with unknown variance. The\n",
    "sample variance is found to be 25. Another random sample of 15 measurements is taken from another\n",
    "normal population with unknown variance, and the sample variance is found to be 20. Conduct an F-test\n",
    "at the 10% significance level to determine if the variances are significantly different.\n",
    "\n"
   ]
  },
  {
   "cell_type": "code",
   "execution_count": 11,
   "id": "bf415099",
   "metadata": {},
   "outputs": [
    {
     "name": "stdout",
     "output_type": "stream",
     "text": [
      "F-value: 1.25\n",
      "Degrees of freedom (numerator): 9\n",
      "Degrees of freedom (denominator): 14\n",
      "Critical values: 0.3305268601412525, 2.6457907352338195\n",
      "Fail to reject the null hypothesis: The variances are not significantly different.\n"
     ]
    }
   ],
   "source": [
    "from scipy.stats import f\n",
    "\n",
    "# Given sample variances\n",
    "s1_squared = 25\n",
    "s2_squared = 20\n",
    "\n",
    "# Sample sizes\n",
    "n1 = 10\n",
    "n2 = 15\n",
    "\n",
    "# Calculate the F-value\n",
    "F = s1_squared / s2_squared\n",
    "\n",
    "# Degrees of freedom\n",
    "dfn = n1 - 1\n",
    "dfd = n2 - 1\n",
    "\n",
    "# Significance level\n",
    "alpha = 0.10\n",
    "\n",
    "# Critical value for a two-tailed test\n",
    "critical_value_lower = f.ppf(alpha / 2, dfn, dfd)\n",
    "critical_value_upper = f.ppf(1 - alpha / 2, dfn, dfd)\n",
    "\n",
    "# Output the results\n",
    "print(f\"F-value: {F}\")\n",
    "print(f\"Degrees of freedom (numerator): {dfn}\")\n",
    "print(f\"Degrees of freedom (denominator): {dfd}\")\n",
    "print(f\"Critical values: {critical_value_lower}, {critical_value_upper}\")\n",
    "\n",
    "# Decision based on critical values\n",
    "if F < critical_value_lower or F > critical_value_upper:\n",
    "    print(\"Reject the null hypothesis: The variances are significantly different.\")\n",
    "else:\n",
    "    print(\"Fail to reject the null hypothesis: The variances are not significantly different.\")\n"
   ]
  },
  {
   "cell_type": "markdown",
   "id": "b5fb3497",
   "metadata": {},
   "source": [
    "Q8. The following data represent the waiting times in minutes at two different restaurants on a Saturday\n",
    "night: Restaurant A: 24, 25, 28, 23, 22, 20, 27; Restaurant B: 31, 33, 35, 30, 32, 36. Conduct an F-test at the 5%\n",
    "significance level to determine if the variances are significantly different.\n"
   ]
  },
  {
   "cell_type": "code",
   "execution_count": 12,
   "id": "9da23918",
   "metadata": {},
   "outputs": [
    {
     "name": "stdout",
     "output_type": "stream",
     "text": [
      "F-value: 1.4551907719609583\n",
      "Degrees of freedom (numerator): 6\n",
      "Degrees of freedom (denominator): 5\n",
      "Critical values: 0.16701279718024772, 6.977701858535566\n",
      "Fail to reject the null hypothesis: The variances are not significantly different.\n"
     ]
    }
   ],
   "source": [
    "from scipy.stats import f\n",
    "\n",
    "# Waiting times data\n",
    "waiting_times_A = [24, 25, 28, 23, 22, 20, 27]\n",
    "waiting_times_B = [31, 33, 35, 30, 32, 36]\n",
    "\n",
    "# Sample variances\n",
    "squared_variance_A = np.var(waiting_times_A, ddof=1)\n",
    "squared_variance_B = np.var(waiting_times_B, ddof=1)\n",
    "\n",
    "# Sample sizes\n",
    "n_A = len(waiting_times_A)\n",
    "n_B = len(waiting_times_B)\n",
    "\n",
    "# Calculate the F-value\n",
    "F = squared_variance_A / squared_variance_B\n",
    "\n",
    "# Degrees of freedom\n",
    "dfn = n_A - 1\n",
    "dfd = n_B - 1\n",
    "\n",
    "# Significance level\n",
    "alpha = 0.05\n",
    "\n",
    "# Critical value for a two-tailed test\n",
    "critical_value_lower = f.ppf(alpha / 2, dfn, dfd)\n",
    "critical_value_upper = f.ppf(1 - alpha / 2, dfn, dfd)\n",
    "\n",
    "# Output the results\n",
    "print(f\"F-value: {F}\")\n",
    "print(f\"Degrees of freedom (numerator): {dfn}\")\n",
    "print(f\"Degrees of freedom (denominator): {dfd}\")\n",
    "print(f\"Critical values: {critical_value_lower}, {critical_value_upper}\")\n",
    "\n",
    "# Decision based on critical values\n",
    "if F < critical_value_lower or F > critical_value_upper:\n",
    "    print(\"Reject the null hypothesis: The variances are significantly different.\")\n",
    "else:\n",
    "    print(\"Fail to reject the null hypothesis: The variances are not significantly different.\")\n"
   ]
  },
  {
   "cell_type": "markdown",
   "id": "2d9551fb",
   "metadata": {},
   "source": [
    "Q9. The following data represent the test scores of two groups of students: Group A: 80, 85, 90, 92, 87, 83;\n",
    "Group B: 75, 78, 82, 79, 81, 84. Conduct an F-test at the 1% significance level to determine if the variances\n",
    "are significantly different."
   ]
  },
  {
   "cell_type": "code",
   "execution_count": 13,
   "id": "ddbb5692",
   "metadata": {},
   "outputs": [
    {
     "name": "stdout",
     "output_type": "stream",
     "text": [
      "F-value: 1.9442622950819677\n",
      "Degrees of freedom (numerator): 5\n",
      "Degrees of freedom (denominator): 5\n",
      "Critical values: 0.06693617195469603, 14.939605459912219\n",
      "Fail to reject the null hypothesis: The variances are not significantly different.\n"
     ]
    }
   ],
   "source": [
    "from scipy.stats import f\n",
    "\n",
    "# Test scores data\n",
    "test_scores_A = [80, 85, 90, 92, 87, 83]\n",
    "test_scores_B = [75, 78, 82, 79, 81, 84]\n",
    "\n",
    "# Sample variances\n",
    "squared_variance_A = np.var(test_scores_A, ddof=1)\n",
    "squared_variance_B = np.var(test_scores_B, ddof=1)\n",
    "\n",
    "# Sample sizes\n",
    "n_A = len(test_scores_A)\n",
    "n_B = len(test_scores_B)\n",
    "\n",
    "# Calculate the F-value\n",
    "F = squared_variance_A / squared_variance_B\n",
    "\n",
    "# Degrees of freedom\n",
    "dfn = n_A - 1\n",
    "dfd = n_B - 1\n",
    "\n",
    "# Significance level\n",
    "alpha = 0.01\n",
    "\n",
    "# Critical value for a two-tailed test\n",
    "critical_value_lower = f.ppf(alpha / 2, dfn, dfd)\n",
    "critical_value_upper = f.ppf(1 - alpha / 2, dfn, dfd)\n",
    "\n",
    "# Output the results\n",
    "print(f\"F-value: {F}\")\n",
    "print(f\"Degrees of freedom (numerator): {dfn}\")\n",
    "print(f\"Degrees of freedom (denominator): {dfd}\")\n",
    "print(f\"Critical values: {critical_value_lower}, {critical_value_upper}\")\n",
    "\n",
    "# Decision based on critical values\n",
    "if F < critical_value_lower or F > critical_value_upper:\n",
    "    print(\"Reject the null hypothesis: The variances are significantly different.\")\n",
    "else:\n",
    "    print(\"Fail to reject the null hypothesis: The variances are not significantly different.\")\n"
   ]
  },
  {
   "cell_type": "code",
   "execution_count": null,
   "id": "84445945",
   "metadata": {},
   "outputs": [],
   "source": []
  }
 ],
 "metadata": {
  "kernelspec": {
   "display_name": "Python 3 (ipykernel)",
   "language": "python",
   "name": "python3"
  },
  "language_info": {
   "codemirror_mode": {
    "name": "ipython",
    "version": 3
   },
   "file_extension": ".py",
   "mimetype": "text/x-python",
   "name": "python",
   "nbconvert_exporter": "python",
   "pygments_lexer": "ipython3",
   "version": "3.11.5"
  }
 },
 "nbformat": 4,
 "nbformat_minor": 5
}
