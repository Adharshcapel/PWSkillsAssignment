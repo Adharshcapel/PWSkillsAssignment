{
 "cells": [
  {
   "attachments": {},
   "cell_type": "markdown",
   "metadata": {},
   "source": [
    "Q1. You are writing code for a company. The requirement of the company is that you create a python\n",
    "function that will check whether the password entered by the user is correct or not. The function should\n",
    "take the password as input and return the string “Valid Password” if the entered password follows the\n",
    "below-given password guidelines else it should return “Invalid Password”.\n",
    "Note: \n",
    "1. The Password should contain at least two uppercase letters and at least two lowercase letters.\n",
    "2. The Password should contain at least a number and three special characters.\n",
    "3. The length of the password should be 10 characters long."
   ]
  },
  {
   "cell_type": "code",
   "execution_count": 22,
   "metadata": {},
   "outputs": [],
   "source": [
    "def validate_password(password):\n",
    "    # Check if password length is exactly 10 characters\n",
    "    if len(password) < 10:\n",
    "        return \"Invalid Password\"\n",
    "    \n",
    "    # Initialize counters for uppercase, lowercase, digits, and special characters\n",
    "    uppercase_count = 0\n",
    "    lowercase_count = 0\n",
    "    digit_count = 0\n",
    "    special_char_count = 0\n",
    "    \n",
    "    # Iterate over each character in the password\n",
    "    for char in password:\n",
    "        # Check if character is uppercase\n",
    "        if char.isupper():\n",
    "            uppercase_count += 1\n",
    "        # Check if character is lowercase\n",
    "        elif char.islower():\n",
    "            lowercase_count += 1\n",
    "        # Check if character is digit\n",
    "        elif char.isdigit():\n",
    "            digit_count += 1\n",
    "        # Check if character is special character\n",
    "        elif not char.isalnum():\n",
    "            special_char_count += 1\n",
    "    \n",
    "    # Check if all conditions are met\n",
    "    if uppercase_count >= 2 and lowercase_count >= 2 and digit_count >= 1 and special_char_count >= 3:\n",
    "        return \"Valid Password\"\n",
    "    else:\n",
    "        return \"Invalid Password\"\n"
   ]
  },
  {
   "cell_type": "code",
   "execution_count": 23,
   "metadata": {},
   "outputs": [
    {
     "data": {
      "text/plain": [
       "'Invalid Password'"
      ]
     },
     "execution_count": 23,
     "metadata": {},
     "output_type": "execute_result"
    }
   ],
   "source": [
    "validate_password(\"123as\")"
   ]
  },
  {
   "cell_type": "code",
   "execution_count": 24,
   "metadata": {},
   "outputs": [
    {
     "data": {
      "text/plain": [
       "'Valid Password'"
      ]
     },
     "execution_count": 24,
     "metadata": {},
     "output_type": "execute_result"
    }
   ],
   "source": [
    "validate_password(\"a11$KAA$dddHHg#\")"
   ]
  },
  {
   "attachments": {},
   "cell_type": "markdown",
   "metadata": {},
   "source": [
    "Explain Class and Object with respect to Object-Oriented Programming. Give a suitable example.\n",
    "\n",
    "In object-oriented programming (OOP), a class is a blueprint or a template that defines the structure and behavior of objects. It serves as a blueprint for creating instances of objects, also known as objects of that class. A class defines the properties (attributes) and behaviors (methods) that objects of that class will have.\n",
    "\n",
    "An object, on the other hand, is an instance of a class. It is a real-world entity that is created based on the class definition. Each object has its own unique set of attributes and can perform actions based on the defined behaviors (methods) of its class\n",
    "\n",
    "\n",
    "\n"
   ]
  },
  {
   "cell_type": "code",
   "execution_count": 1,
   "metadata": {},
   "outputs": [],
   "source": [
    "class Car:\n",
    "    def __init__(self, make, model, year):\n",
    "        self.make = make\n",
    "        self.model = model\n",
    "        self.year = year\n",
    "    \n",
    "    def start_engine(self):\n",
    "        print(\"The engine is started.\")\n",
    "    \n",
    "    def stop_engine(self):\n",
    "        print(\"The engine is stopped.\")\n",
    "    \n",
    "    def accelerate(self):\n",
    "        print(\"The car is accelerating.\")\n",
    "    \n",
    "    def brake(self):\n",
    "        print(\"The car is braking.\")"
   ]
  },
  {
   "cell_type": "code",
   "execution_count": 11,
   "metadata": {},
   "outputs": [
    {
     "name": "stdout",
     "output_type": "stream",
     "text": [
      "The engine is started.\n"
     ]
    }
   ],
   "source": [
    "car1 = Car(\"Toyota\", \"Camry\", 2022)\n",
    "car1.start_engine()"
   ]
  },
  {
   "attachments": {},
   "cell_type": "markdown",
   "metadata": {},
   "source": [
    "Name the four pillars of OOPs.\n",
    "\n",
    "The four pillars of object-oriented programming (OOP) are\n",
    "1) Encapsulation\n",
    "2) Inheritance\n",
    "3) Polymorphism\n",
    "4) Abstarction\n"
   ]
  },
  {
   "attachments": {},
   "cell_type": "markdown",
   "metadata": {},
   "source": [
    "Q3. Explain why the __init__() function is used. Give a suitable example.\n",
    "\n",
    "\n",
    "In object-oriented programming (OOP), the __init__() function is a special method used as a constructor for initializing an object of a class. It is called automatically when a new object is created from the class. "
   ]
  },
  {
   "cell_type": "code",
   "execution_count": 16,
   "metadata": {},
   "outputs": [
    {
     "data": {
      "text/plain": [
       "'Hello, my name is Sarath, and I am 12 years old'"
      ]
     },
     "execution_count": 16,
     "metadata": {},
     "output_type": "execute_result"
    }
   ],
   "source": [
    "# The purpose of the __init__() method is to set the initial state (attributes) of an object and perform any necessary setup or initialization tasks.\n",
    "\n",
    "\n",
    "class Person:\n",
    "    def __init__(self, name, age):\n",
    "        self.name = name\n",
    "        self.age = age\n",
    "    \n",
    "    def introduce(self):\n",
    "        return  f\"Hello, my name is {self.name}, and I am {self.age} years old\"\n",
    "    \n",
    "person1=Person('Sarath','12')\n",
    "person1.introduce()"
   ]
  },
  {
   "attachments": {},
   "cell_type": "markdown",
   "metadata": {},
   "source": [
    "Why self is used in OOPs?\n",
    "\n",
    "In object-oriented programming (OOP), the self parameter is used to refer to the instance of a class within the class's methods. It acts as a reference to the current object or instance on which a method is being called"
   ]
  },
  {
   "attachments": {},
   "cell_type": "markdown",
   "metadata": {},
   "source": [
    "What is inheritance? Give an example for each type of inheritance?\n",
    "\n",
    "Inheritance is a fundamental concept in object-oriented programming (OOP) that allows a class to inherit attributes and behaviors from another class. The class that inherits is called the derived class, subclass, or child class, and the class being inherited from is called the base class, superclass, or parent class. Inheritance enables code reuse, promotes modularity, and allows for the creation of hierarchical relationships between classes.\n"
   ]
  },
  {
   "cell_type": "code",
   "execution_count": null,
   "metadata": {},
   "outputs": [],
   "source": []
  }
 ],
 "metadata": {
  "kernelspec": {
   "display_name": "base",
   "language": "python",
   "name": "python3"
  },
  "language_info": {
   "codemirror_mode": {
    "name": "ipython",
    "version": 3
   },
   "file_extension": ".py",
   "mimetype": "text/x-python",
   "name": "python",
   "nbconvert_exporter": "python",
   "pygments_lexer": "ipython3",
   "version": "3.10.9"
  },
  "orig_nbformat": 4
 },
 "nbformat": 4,
 "nbformat_minor": 2
}
