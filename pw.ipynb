{
 "cells": [
  {
   "cell_type": "markdown",
   "id": "f2d7028c",
   "metadata": {},
   "source": [
    "Q1: What is the difference between a t-test and a z-test? Provide an example scenario where you would\n",
    "use each type of test. ?\n",
    "\n",
    "    The main difference between a t-test and a z-test lies in the circumstances under which each test is appropriate and the assumptions they make about the data.\n",
    "\n",
    "- T-test:\n",
    "\n",
    "    -      Use case: T-tests are typically used when the sample size is small (usually less than 30) and the population standard deviation is unknown.\n",
    "    \n",
    "           Assumption: Assumes that the data follows a normal distribution.\n",
    "           \n",
    "           Formula: The t-test statistic is calculated as the difference between the sample mean and the population mean divided by the standard error of the sample mean.\n",
    "           \n",
    "           Example scenario: Suppose we want to compare the mean scores of two groups of students (e.g., Group A and Group B) on a test. We can use a t-test to determine if there is a statistically significant difference between the mean scores of the two groups.\n",
    "           \n",
    "           \n",
    "- Z-test:\n",
    "\n",
    "    -        Use case: Z-tests are used when the sample size is large (typically greater than 30) and the population standard deviation is known.\n",
    "    \n",
    "              Assumption: Assumes that the data follows a normal distribution.\n",
    "              \n",
    "              Formula: The z-test statistic is calculated as the difference between the sample mean and the population mean divided by the standard deviation of the population.\n",
    "              \n",
    "               Example scenario: Let's say we have a large sample size of employees in a company, and we want to test if the average age of these employees is significantly different from the national average age. Since we know the population standard deviation (from national statistics) and the sample size is large, we can use a z-test to perform this hypothesis test.\n",
    "               \n",
    "            In summary, choose a t-test when the sample size is small or when the population standard deviation is unknown, and use a z-test when the sample size is large and the population standard deviation is known."
   ]
  },
  {
   "cell_type": "markdown",
   "id": "56f238a7",
   "metadata": {},
   "source": [
    "Q2: Differentiate between one-tailed and two-tailed tests.?\n",
    "\n",
    "\n",
    "    One-tailed and two-tailed tests refer to the directionality of the hypothesis being tested in statistical analysis. Here's how they differ:\n",
    "\n",
    "- One-tailed test:\n",
    "\n",
    "    -        A one-tailed test is used when the direction of the effect (increase or decrease) is specified in the alternative hypothesis.\n",
    "    \n",
    "    -        It focuses on whether the sample statistic is significantly greater than or less than a certain value.\n",
    "    -        The critical region for rejection is located entirely in one tail of the distribution.\n",
    "    \n",
    "    -        It's appropriate when you're interested in determining if a sample mean is significantly greater than or less than a population mean, but not both.\n",
    "    \n",
    "    -         It's more powerful for detecting effects in a specific direction but less flexible.\n",
    "- Two-tailed test:\n",
    "\n",
    "    -         A two-tailed test is used when there is no specific directionality specified in the alternative hypothesis, and you want to test if the sample statistic is significantly different from the population parameter, regardless of direction.\n",
    "    \n",
    "    -        It focuses on whether the sample statistic is significantly different from a certain value in either direction.\n",
    "    \n",
    "    -        The critical region for rejection is divided between both tails of the distribution.\n",
    "    \n",
    "    -        It's appropriate when you're interested in determining if a sample mean is significantly different from a population mean, regardless of whether it's greater than or less than.\n",
    "    -        It's more conservative than a one-tailed test because it accounts for the possibility of the effect being in either direction.\n",
    "    \n",
    "        In summary, the key difference between one-tailed and two-tailed tests lies in the directional focus of the hypothesis being tested. One-tailed tests are used when the direction of the effect is specified, while two-tailed tests are used when the direction is not specified, and you want to test for differences in both directions.\n",
    "\n",
    "\n",
    "\n",
    "\n",
    "\n",
    "\n"
   ]
  },
  {
   "cell_type": "markdown",
   "id": "88ab640a",
   "metadata": {},
   "source": [
    "Q3: Explain the concept of Type 1 and Type 2 errors in hypothesis testing. Provide an example scenario for\n",
    "each type of error.?\n",
    "\n",
    "\n",
    "    In hypothesis testing, Type I and Type II errors are two types of errors that can occur when making decisions based on statistical tests.\n",
    "\n",
    "- Type I Error (False Positive):\n",
    "\n",
    "    -    Type I error occurs when you reject the null hypothesis when it is actually true.\n",
    "    \n",
    "          In other words, you conclude that there is a significant effect or difference when there is none.The probability of committing a Type I error is denoted by 𝛼 α, also known as the significance level.\n",
    "          \n",
    "          Type I errors are often considered more serious because they can lead to incorrect conclusions and wasted resources.\n",
    "           Example scenario: Suppose a pharmaceutical company is testing a new drug's effectiveness in reducing cholesterol levels. A Type I error would occur if the company concludes that the drug is effective (rejects the null hypothesis) when it actually has no effect on cholesterol levels (null hypothesis is true).\n",
    "\n",
    "- Type II Error (False Negative):\n",
    "\n",
    "\n",
    "\n",
    "    -    A Type II error occurs when you fail to reject the null hypothesis when it is actually false.\n",
    "    \n",
    "         In other words, you conclude that there is no significant effect or difference when there is one.The probability of committing a Type II error is denoted by 𝛽.\n",
    "         \n",
    "         Type II errors are often considered less serious than Type I errors but can still have important consequences, such as missing out on detecting a real effect.\n",
    "         \n",
    "         Example scenario: Continuing with the previous example, a Type II error would occur if the pharmaceutical company fails to conclude that the drug is effective (fails to reject the null hypothesis) when it actually does reduce cholesterol levels (null hypothesis is false).\n",
    "         \n",
    "        In summary, Type I errors involve incorrectly rejecting the null hypothesis, while Type II errors involve incorrectly failing to reject the null hypothesis. Both types of errors have implications for decision-making and should be carefully considered in hypothesis testing.\n",
    "\n",
    "\n",
    "\n",
    "\n",
    "\n",
    "\n",
    "\n"
   ]
  },
  {
   "attachments": {
    "image.png": {
     "image/png": "[encoded data removed]"
    }
   },
   "cell_type": "markdown",
   "id": "5fd004ea",
   "metadata": {},
   "source": [
    "Q4: Explain Bayes's theorem with an example.?\n",
    "\n",
    "Bayes's theorem, named after the Reverend Thomas Bayes, is a fundamental concept in probability theory that describes how to update our beliefs in the face of new evidence. It quantifies the probability of a hypothesis given prior knowledge or belief, and then updates this probability based on new evidence. Mathematically, it can be expressed as:\n",
    "\n",
    "\n",
    "![image.png](attachment:image.png)\n",
    "\n",
    "\n",
    "Where:\n",
    "\n",
    "P(A∣B) is the probability of hypothesis 𝐴 given evidence B.\n",
    "P(B∣A) is the probability of evidence B given hypothesis 𝐴\n",
    "\n",
    "\n",
    "P(A) is the prior probability of hypothesis 𝐴 A being true.\n",
    "\n",
    "P(B) is the prior probability of evidence B occurring.\n",
    "\n",
    "- Example\n",
    "\n",
    "Imagine you're a contestant on a game show. The host presents you with three doors. Behind one door is a car, and behind the other two are goats. You pick a door, say Door 1. The host, who knows what's behind each door, then opens another door, revealing a goat, let's say Door 2. Now, the host gives you a choice: stick with Door 1 or switch to Door 3. What should you do?\n",
    "\n",
    "Let's use Bayes's theorem to solve this:\n",
    "Let 𝐴 be the event that the car is behind Door 1.\n",
    "Let B be the event that the host opens Door 2 and reveals a goat.\n",
    "\n",
    "\n",
    "P(A∣B), the probability that the car is behind Door 1 given that the host opened Door 2 and revealed a goat.\n",
    "\n",
    "Given:\n",
    "\n",
    "\n",
    "P(A)= 1/3 (prior probability of choosing Door 1 initially)\n",
    "\n",
    "P(B∣A)=1 (if the car is behind Door 1, the host must open a door with a goat)\n",
    "\n",
    "P(B) (probability of the host opening Door 2 and revealing a goat) is a bit tricky. Initially, you chose Door 1, and there are two possibilities for the host to open a door with a goat (Door 2 or Door 3). If the car is behind Door 1, the probability of the host opening Door 2 is 1/2 and if the car is behind Door 3, the probability is 1. So, \n",
    "𝑃(𝐵)=1/2×/1/3+1×1/3\n",
    "=1/2+1/3  = 5/6\n",
    "\n",
    "\n",
    "​\n",
    " \n",
    "Now, applying Bayes's theorem:\n",
    " p(A/B) = (1 × 1/3)/5/6 =2/5\n",
    "    \n",
    " \n",
    "\n",
    "So, the probability that the car is behind Door 1 given that the host opened Door 2 and revealed a goat is 2/5, This means you have a higher chance of winning if you switch to Door 3."
   ]
  },
  {
   "cell_type": "markdown",
   "id": "3d26387d",
   "metadata": {},
   "source": [
    "Q5: What is a confidence interval? How to calculate the confidence interval, explain with an example. \n",
    "    \n",
    "A confidence interval is a range of values that is likely to contain the true value of a population parameter. It is often used in inferential statistics to estimate an unknown population parameter, such as the mean or proportion, based on a sample from the population. The confidence interval provides a measure of the uncertainty associated with the estimate.\n",
    "\n",
    "To calculate a confidence interval, you typically need three pieces of information: the sample statistic (e.g., sample mean or proportion), the standard error (a measure of the variability of the sample statistic), and the desired level of confidence.\n",
    "\n",
    "To calculate a confidence interval for the population mean, using the sample mean and standard deviation:\n",
    "\n",
    "- Choose a Confidence Level: Determine the desired level of confidence for the interval, often denoted as  −α, where α is the significance level. Common choices include 90%, 95%, or 99% confidence intervals.\n",
    "\n",
    "- find the Z-score or T-score: Depending on the sample size and whether the population standard deviation is known, you'll use either the standard normal distribution (Z-score) or the Student's t-distribution (T-score). For large sample sizes (typically n≥30) or when the population standard deviation is known, the Z-score is used. Otherwise, the T-score is used.\n",
    "\n",
    "- Calculate the Margin of Error: The margin of error is the value that is added to and subtracted from the sample statistic to create the interval. It is determined by multiplying the standard error of the statistic by the critical value from the appropriate distribution. For a Z-score, the critical value can be found in a standard normal distribution table or calculated using software. For a T-score, it depends on the sample size and desired confidence level.\n",
    "\n",
    "- Compute the Confidence Interval: Add the margin of error to the sample statistic to find the upper bound of the interval and subtract it to find the lower bound.\n",
    "\n",
    "Suppose you want to estimate the average height of students in a school. You take a random sample of 50 students and find that the sample mean height is 65 inches, with a sample standard deviation of 3 inches.\n",
    "\n",
    "\n",
    "Choose a Confidence Level: Let's choose a 95% confidence level (𝛼=0.05).\n",
    "\n",
    "Find the Z-score: Since the sample size is large (50 students) and we're assuming the population standard deviation is unknown, we'll use the Z-score. For a 95% confidence interval, the critical Z-value is approximately 1.96 (you can find this from a standard normal distribution table).\n",
    "\n",
    "Calculate the Margin of Error: The standard error of the mean (SE) is given by 𝜎/sqrt(n)where σ is the population standard deviation (which we don't know, so we use the sample standard deviation) and 𝑛\n",
    "n is the sample size. \n",
    "\n",
    "Compute the Confidence Interval: The 95% confidence interval for the population mean height is 65±0.8314, which gives us the interval (64.1686,65.8314)\n"
   ]
  },
  {
   "cell_type": "markdown",
   "id": "d828d0b3",
   "metadata": {},
   "source": [
    "Q6. Use Bayes' Theorem to calculate the probability of an event occurring given prior knowledge of the\n",
    "event's probability and new evidence. Provide a sample problem and solution.\n",
    "\n",
    "Suppose a certain disease affects 1 in 1000 people in a population. A diagnostic test for this disease is known to be 95% accurate, meaning that it correctly identifies 95% of people who have the disease and 95% of people who do not have the disease. Let's use Bayes' Theorem to calculate the probability that a person has the disease given that they tested positive.\n",
    "\n",
    "Let's define the events:\n",
    "\n",
    "\n",
    "A: The person has the disease.\n",
    "B: The person tests positive for the disease.\n",
    "\n",
    "\n",
    "P(A): The prior probability of having the disease, which is 1/1000=0.001\n",
    "\n",
    "\n",
    "P(B∣A): The probability of testing positive given that the person has the disease, which is the test's sensitivity, 0.95.\n",
    "\n",
    "P(¬B∣¬A): The probability of testing negative given that the person does not have the disease, which is the test's specificity. Since the specificity is not given directly, we can compute it using the complement rule: \n",
    "\n",
    "P(¬B∣¬A)=1−P(B∣¬A)=1−false positive rate. Since the false positive rate is not explicitly given, let's assume it to be 5% for this example, yielding \n",
    "\n",
    "P(¬B∣¬A)=0.95.\n",
    "We can calculate \n",
    "\n",
    "P(¬B∣A) using the complement rule:  P(¬B∣A)=1−P(B∣A)=1−0.95=0.05.\n",
    "Now, let's apply Bayes' Theorem to find \n",
    "\n",
    "P(A∣B), the probability that the person has the disease given that they tested positive:\n",
    "\n",
    "P(B)=P(B∣A)×P(A)+P(B∣¬A)×P(¬A)\n",
    "\n",
    "P(B)=(0.95×0.001)+(0.05×0.999)\n",
    "\n",
    "P(B)=0.001×(0.95+0.05×999)\n",
    "\n",
    "P(B)=0.001×(0.95+49.95)\n",
    "\n",
    "P(B)=0.001×50.9\n",
    "\n",
    "P(B)=0.0509\n",
    "\n",
    "plugging the values into Bayes' Theorem:\n",
    "\n",
    "\n",
    "P(A∣B)= 0.95×0.001/0.0509\n",
    "\n",
    "P(A∣B)= 0.00095/0.0509\n",
    "\n",
    "\n",
    "P(A∣B)≈0.0187\n",
    "\n",
    "he probability that the person actually has the disease given that they tested positive is approximately \n",
    "0.0187 or 1.87%. This illustrates that even with a positive test result, there's still a relatively low chance of actually having the disease, due to the combination of the disease's low prevalence and the test's false positive rate."
   ]
  },
  {
   "attachments": {
    "image.png": {
     "image/png": "[encoded data removed]"
    }
   },
   "cell_type": "markdown",
   "id": "3e6159e0",
   "metadata": {},
   "source": [
    "Q7. Calculate the 95% confidence interval for a sample of data with a mean of 50 and a standard deviation\n",
    "of 5. Interpret the results.?\n",
    "\n",
    "\n",
    "To calculate the 95% confidence interval for a sample mean, we'll use the formula:\n",
    "\n",
    "Confidence Interval=Sample Mean±Margin of Error\n",
    "\n",
    "Where the margin of error is determined by multiplying the standard error of the mean by the critical value from the standard normal distribution corresponding to the desired level of confidence (in this case, 95%).\n",
    "\n",
    "Given:\n",
    "\n",
    "Sample Mean (𝑥) = 50\n",
    "Standard Deviation (σ) = 5\n",
    "Sample Size (n) is not given, but it's not necessary to calculate the confidence interval since it's not used in this formula for a known population standard deviation.\n",
    "\n",
    "![image.png](attachment:image.png)\n",
    "\n",
    "\n",
    "For a 95% confidence interval, the critical value is approximately 1.96 (you can find this from a standard normal distribution table).\n",
    "\n",
    "\n",
    "\n",
    "Margin of Error=1.96× 5/sqr(n)\n",
    "Margin of Error≈1.96×0.9129\n",
    "Margin of Error≈1.79\n",
    "\n",
    "onfidence Interval=50±1.79\n",
    "\n",
    "Confidence Interval≈(48.21,51.79)\n"
   ]
  },
  {
   "cell_type": "markdown",
   "id": "0667dbba",
   "metadata": {},
   "source": [
    "Q8. What is the margin of error in a confidence interval? How does sample size affect the margin of error?\n",
    "Provide an example of a scenario where a larger sample size would result in a smaller margin of error.\n",
    "\n",
    "\n",
    "The margin of error in a confidence interval is a measure of the uncertainty or variability associated with the estimate of a population parameter (such as the population mean or proportion) based on a sample from the population. It represents the range of values above and below the sample statistic within which we are confident the true population parameter lies.\n",
    "\n",
    "The margin of error depends on several factors, including the sample size and the desired level of confidence. Generally, a larger sample size results in a smaller margin of error, while a smaller sample size leads to a larger margin of error.\n",
    "\n",
    "The relationship between sample size and margin of error can be understood through the formula for the margin of error in a confidence interval for the population mean:\n",
    "\n",
    "\n",
    "Margin of Error=Critical Value× Standard Deviation/sqr(n)\n",
    "Where:\n",
    "\n",
    "The critical value is determined based on the desired level of confidence.\n",
    "The standard deviation represents the variability of the population.n is the sample size.As the sample size (n) increases, the denominator (n) increases, which reduces the margin of error. This means that larger sample sizes result in more precise estimates and narrower confidence intervals.\n",
    "\n",
    "Here's an example to illustrate how a larger sample size leads to a smaller margin of error:\n",
    "\n",
    "Suppose we want to estimate the average score of students on a standardized test. We take two different samples: one with 50 students and another with 200 students.\n",
    "\n",
    "For the sample of 50 students:\n",
    "\n",
    "Sample mean = 75\n",
    "Standard deviation = 10\n",
    "\n",
    "\n",
    "For the sample of 200 students:\n",
    "\n",
    "Sample mean = 75\n",
    "Standard deviation = 10\n",
    "Let's assume we want to construct a 95% confidence interval for both samples.\n",
    "\n",
    "For the sample of 50 students:\n",
    "\n",
    "Margin of Error=1.96× 10/50≈2.78\n",
    "\n",
    "For the sample of 200 students:\n",
    "\n",
    "Margin of Error=1.96× 10/sqr(200)≈1.38\n",
    "\n",
    "As you can see, the margin of error is smaller for the sample of 200 students compared to the sample of 50 students, even though the sample mean and standard deviation are the same. This demonstrates how increasing the sample size leads to a smaller margin of error and a more precise estimate of the population parameter."
   ]
  },
  {
   "cell_type": "markdown",
   "id": "8297bce7",
   "metadata": {},
   "source": [
    "Q9. Calculate the z-score for a data point with a value of 75, a population mean of 70, and a population\n",
    "standard deviation of 5. Interpret the results.\n",
    "\n",
    "\n",
    "To calculate the z-score for a data point, you use the formula: 𝑍= σ/X−μ\n",
    "Where: 𝑋,X is the value of the data point.μ is the population mean σ is the population standard deviation.\n",
    "Given:X=75\n",
    "\n",
    "μ=70\n",
    "\n",
    "σ=5. Substitute the given values into the formula:\n",
    "\n",
    "𝑍=75−70/5=  5/5  =1\n",
    "\n",
    "So, the z-score for the data point with a value of 75, given a population mean of 70 and a population standard deviation of 5, is 1.\n",
    "\n",
    "Interpretation:\n",
    "A z-score of 1 indicates that the data point is 1 standard deviation above the mean of the population. In this case, since the population mean is 70 and the standard deviation is 5, a value of 75 is 1 standard deviation above the mean. This means that the data point is relatively higher than the average value in the population by one standard deviation."
   ]
  },
  {
   "cell_type": "markdown",
   "id": "abc20fb1",
   "metadata": {},
   "source": [
    "Q10. In a study of the effectiveness of a new weight loss drug, a sample of 50 participants lost an average\n",
    "of 6 pounds with a standard deviation of 2.5 pounds. Conduct a hypothesis test to determine if the drug is\n",
    "significantly effective at a 95% confidence level using a t-test.\n",
    "\n",
    "Formulate the hypotheses:\n",
    "Null hypothesis (𝐻0): The new weight loss drug is not significantly effective; the mean weight loss is equal to or less than zero.\n",
    "Alternative hypothesis (H1): The new weight loss drug is significantly effective; the mean weight loss is greater than zero.\n",
    "Mathematically:\n",
    "𝐻0 :μ≤0\n",
    "𝐻1:𝜇>0\n",
    "\n",
    "\n",
    "Select the significance level (𝛼):We are given a 95% confidence level, so 𝛼=0.05\n",
    "α=0.05. Calculate the test statistic:\n",
    "\n",
    "We'll use the formula for the t-test:𝑡=𝑥−𝜇/(𝑠/sqr(𝑛))\n",
    "\n",
    "Given:\n",
    "𝑥= =6 (sample mean),\n",
    "𝜇=0 (null hypothesis, assuming no weight loss),\n",
    "\n",
    "s=2.5 (sample standard deviation),\n",
    "\n",
    "n=50 (sample size).\n",
    "Substitute these values into the formula to calculate the test statistic 𝑡\n",
    "\n",
    "Determine the critical value or p-value:With a one-tailed test and \n",
    "\n",
    "α=0.05, we'll find the critical value or p-value from the t-distribution table.\n",
    "\n",
    "Make a decision:If the test statistic t is greater than the critical value, we reject the null hypothesis.\n",
    "If the p-value is less than 𝛼, we reject the null hypothesis\n",
    "\n",
    "t= 6−0/(2.5/sqr(50))\n",
    "\n",
    "𝑡≈16.97\n",
    "\n",
    "Now, we'll find the critical value or p-value. Since we have a one-tailed test with 𝛼=\n",
    "0.05\n",
    "α=0.05, we'll look up the critical value from the t-distribution table with \n",
    "\n",
    "df=n−1=50−1=49. \n",
    "\n",
    "\n"
   ]
  },
  {
   "cell_type": "markdown",
   "id": "4c300431",
   "metadata": {},
   "source": [
    "Q11. In a survey of 500 people, 65% reported being satisfied with their current job. Calculate the 95%\n",
    "confidence interval for the true proportion of people who are satisfied with their job.\n",
    "\n",
    "To calculate the 95% confidence interval for the true proportion of people who are satisfied with their job, we can use the formula for the confidence interval for a proportion. Here’s a step-by-step solution:\n",
    "\n",
    "Identify the sample proportion (p̂):\n",
    "\n",
    "𝑝=\n",
    "Number of satisfied people/Total number of people\n",
    "=65%of 500=325/500\n",
    "=0.65\n",
    "\n",
    "Determine the sample size (n):n=500\n",
    "Calculate the standard error (SE) for the proportion:\n",
    "\n",
    "Find the Z-score for a 95% confidence interval:\n",
    "For a 95% confidence interval, the Z-score (z*) is approximately 1.96.\n",
    "\n",
    "Calculate the margin of error (ME):\n",
    "\n",
    "𝑀𝐸=𝑧∗𝑆𝐸=1.96*0.0213≈0.0417\n",
    "\n",
    "\n",
    "Determine the confidence interval:\n",
    "The confidence interval is given by:\n",
    "\n",
    "𝑝^±𝑀𝐸=0.65±0.0417\n",
    "\n",
    "p^±ME=0.65±0.0417\n",
    "Therefore:\n",
    "\n",
    "Lower bound=0.65−0.0417=0.6083\n",
    "\n",
    "Upper bound=0.65+0.0417=0.6917\n",
    "Upper bound=0.65+0.0417=0.6917\n",
    "\n",
    "Express the confidence interval:\n",
    "\n",
    "The 95% confidence interval for the true proportion of people who are satisfied with their job is  (0.6083, 0.6917).\n",
    "Thus, we can be 95% confident that the true proportion of people who are satisfied with their job is between 60.83% and 69.17%."
   ]
  },
  {
   "attachments": {
    "image-2.png": {
     "image/png": "[encoded data removed]"
    },
    "image.png": {
     "image/png": "[encoded data removed]"
    }
   },
   "cell_type": "markdown",
   "id": "e974a7bd",
   "metadata": {},
   "source": [
    "Q12. A researcher is testing the effectiveness of two different teaching methods on student performance.\n",
    "Sample A has a mean score of 85 with a standard deviation of 6, while sample B has a mean score of 82\n",
    "with a standard deviation of 5. Conduct a hypothesis test to determine if the two teaching methods have a\n",
    "significant difference in student performance using a t-test with a significance level of 0.01.\n",
    "\n",
    "To determine if there is a significant difference in student performance between the two teaching methods, we can conduct an independent samples t-test. Here’s the step-by-step process:\n",
    "\n",
    "State the hypotheses:\n",
    "\n",
    "Null hypothesis (𝐻0): There is no significant difference in mean scores between the two teaching methods. (\n",
    "𝜇𝐴=𝜇𝐵\n",
    "\n",
    "Alternative hypothesis (𝐻): There is a significant difference in mean scores between the two teaching methods. (\n",
    "𝜇𝐴≠𝜇𝐵\n",
    "\n",
    "Identify the sample statistics:\n",
    "Sample A:Mean (𝑥ˉ𝐴) = 85\n",
    "Standard deviation (𝑠𝐴) = 6\n",
    "Sample size (𝑛𝐴) (assume it’s given; let's denote it)\n",
    "\n",
    "Sample B:Mean (𝑥ˉ𝐵) = 82\n",
    "Standard deviation (𝑠𝐵) = 5\n",
    "Sample size (𝑛𝐵) (assume it’s given; let's denote it \n",
    "\n",
    "Assume equal sample sizes as its not given:\n",
    "\n",
    "Assume 𝑛𝐴=𝑛𝐵= n \n",
    "\n",
    "Calculate the degrees of freedom:\n",
    "\n",
    "![image.png](attachment:image.png)\n",
    "\n",
    "\n",
    "Use the t-distribution table:\n",
    "With \n",
    "𝑑\n",
    "𝑓\n",
    "df approximately large, the critical t-value at 𝛼=0.01\n",
    "α=0.01 is around 2.576 for a two-tailed test.\n",
    "\n",
    "Decision rule:\n",
    "\n",
    "If ∣𝑡∣>𝑡critical,reject 𝐻0\n",
    "![image-2.png](attachment:image-2.png)\n",
    "\n",
    "\n"
   ]
  },
  {
   "cell_type": "markdown",
   "id": "cab0a887",
   "metadata": {},
   "source": [
    "Q13. A population has a mean of 60 and a standard deviation of 8. A sample of 50 observations has a mean\n",
    "of 65. Calculate the 90% confidence interval for the true population mean."
   ]
  },
  {
   "cell_type": "code",
   "execution_count": 2,
   "id": "1f0a116c",
   "metadata": {},
   "outputs": [],
   "source": [
    "import numpy as np\n",
    "from scipy.stats import norm\n"
   ]
  },
  {
   "cell_type": "code",
   "execution_count": 3,
   "id": "14166bf0",
   "metadata": {},
   "outputs": [],
   "source": [
    "## Define the known values:\n",
    "population_mean = 60  \n",
    "population_std_dev = 8\n",
    "sample_size = 50\n",
    "sample_mean = 65\n"
   ]
  },
  {
   "cell_type": "code",
   "execution_count": 4,
   "id": "fea628cf",
   "metadata": {},
   "outputs": [
    {
     "name": "stdout",
     "output_type": "stream",
     "text": [
      "Z-score for 90% confidence level: 1.6448536269514722\n"
     ]
    }
   ],
   "source": [
    "# Determine the Z-score for a 90% confidence interval:\n",
    "confidence_level = 0.90\n",
    "z_score = norm.ppf(1 - (1 - confidence_level) / 2)\n",
    "print(f\"Z-score for 90% confidence level: {z_score}\")\n"
   ]
  },
  {
   "cell_type": "code",
   "execution_count": 5,
   "id": "0d1c2fad",
   "metadata": {},
   "outputs": [
    {
     "name": "stdout",
     "output_type": "stream",
     "text": [
      "Standard Error: 1.131370849898476\n"
     ]
    }
   ],
   "source": [
    "## Calculate the standard error (SE) of the mean:\n",
    "\n",
    "standard_error = population_std_dev / np.sqrt(sample_size)\n",
    "print(f\"Standard Error: {standard_error}\")\n",
    "\n"
   ]
  },
  {
   "cell_type": "code",
   "execution_count": 6,
   "id": "88e824f4",
   "metadata": {},
   "outputs": [
    {
     "name": "stdout",
     "output_type": "stream",
     "text": [
      "Margin of Error: 1.860939445882678\n"
     ]
    }
   ],
   "source": [
    "## Calculate the margin of error (ME):\n",
    "\n",
    "margin_of_error = z_score * standard_error\n",
    "print(f\"Margin of Error: {margin_of_error}\")\n"
   ]
  },
  {
   "cell_type": "code",
   "execution_count": 7,
   "id": "867b3eed",
   "metadata": {},
   "outputs": [
    {
     "name": "stdout",
     "output_type": "stream",
     "text": [
      "Margin of Error: 1.860939445882678\n"
     ]
    }
   ],
   "source": [
    "## Determine the confidence interval:\n",
    "margin_of_error = z_score * standard_error\n",
    "print(f\"Margin of Error: {margin_of_error}\")\n"
   ]
  },
  {
   "cell_type": "markdown",
   "id": "18c2ec0e",
   "metadata": {},
   "source": [
    "- Z-score for 90% confidence level: 1.6448536269514722\n",
    "- Standard Error: 1.131370849898476\n",
    "- Margin of Error: 1.860222231134446\n",
    "- 90% Confidence Interval: (63.139777768865554, 66.86022223113444)\n"
   ]
  },
  {
   "cell_type": "markdown",
   "id": "84c7c79f",
   "metadata": {},
   "source": [
    "Q14. In a study of the effects of caffeine on reaction time, a sample of 30 participants had an average\n",
    "reaction time of 0.25 seconds with a standard deviation of 0.05 seconds. Conduct a hypothesis test to\n",
    "determine if the caffeine has a significant effect on reaction time at a 90% confidence level using a t-test."
   ]
  },
  {
   "cell_type": "code",
   "execution_count": 8,
   "id": "9e070048",
   "metadata": {},
   "outputs": [],
   "source": [
    "import numpy as np\n",
    "from scipy.stats import t\n"
   ]
  },
  {
   "cell_type": "code",
   "execution_count": 9,
   "id": "d1eaf719",
   "metadata": {},
   "outputs": [],
   "source": [
    "## Define the sample statistics and population mean:\n",
    "# Sample statistics\n",
    "sample_mean = 0.25\n",
    "sample_std_dev = 0.05\n",
    "sample_size = 30\n",
    "\n",
    "# Hypothesized population mean\n",
    "population_mean = 0.25\n"
   ]
  },
  {
   "cell_type": "code",
   "execution_count": 10,
   "id": "c8c4d363",
   "metadata": {},
   "outputs": [
    {
     "name": "stdout",
     "output_type": "stream",
     "text": [
      "t-statistic: 0.0\n"
     ]
    }
   ],
   "source": [
    "# Calculate the t-statistic\n",
    "t_statistic = (sample_mean - population_mean) / (sample_std_dev / np.sqrt(sample_size))\n",
    "print(f\"t-statistic: {t_statistic}\")\n"
   ]
  },
  {
   "cell_type": "code",
   "execution_count": 11,
   "id": "83c5d2f3",
   "metadata": {},
   "outputs": [
    {
     "name": "stdout",
     "output_type": "stream",
     "text": [
      "Degrees of freedom: 29\n"
     ]
    }
   ],
   "source": [
    "# Degrees of freedom\n",
    "df = sample_size - 1\n",
    "print(f\"Degrees of freedom: {df}\")"
   ]
  },
  {
   "cell_type": "code",
   "execution_count": 12,
   "id": "bad11584",
   "metadata": {},
   "outputs": [
    {
     "name": "stdout",
     "output_type": "stream",
     "text": [
      "Critical t-value for 90% confidence level: 1.6991270265334972\n"
     ]
    }
   ],
   "source": [
    "# Determine the critical t-value for a 90% confidence level\n",
    "alpha = 0.10\n",
    "t_critical = t.ppf(1 - alpha / 2, df)\n",
    "print(f\"Critical t-value for 90% confidence level: {t_critical}\")\n"
   ]
  },
  {
   "cell_type": "code",
   "execution_count": 13,
   "id": "e3f5c5ba",
   "metadata": {},
   "outputs": [
    {
     "name": "stdout",
     "output_type": "stream",
     "text": [
      "Fail to reject the null hypothesis: There is no significant effect of caffeine on reaction time.\n"
     ]
    }
   ],
   "source": [
    "# Compare t-statistic to critical t-value\n",
    "if abs(t_statistic) > t_critical:\n",
    "    print(\"Reject the null hypothesis: There is a significant effect of caffeine on reaction time.\")\n",
    "else:\n",
    "    print(\"Fail to reject the null hypothesis: There is no significant effect of caffeine on reaction time.\")\n"
   ]
  },
  {
   "cell_type": "markdown",
   "id": "b3e185d3",
   "metadata": {},
   "source": [
    "- t-statistic: 0.0\n",
    "- Degrees of freedom: 29\n",
    "- Critical t-value for 90% confidence level: 1.6991270265334972\n",
    "- Fail to reject the null hypothesis: There is no significant effect of caffeine on reaction time.\n"
   ]
  },
  {
   "cell_type": "code",
   "execution_count": null,
   "id": "3d1d3e2b",
   "metadata": {},
   "outputs": [],
   "source": []
  }
 ],
 "metadata": {
  "kernelspec": {
   "display_name": "Python 3 (ipykernel)",
   "language": "python",
   "name": "python3"
  },
  "language_info": {
   "codemirror_mode": {
    "name": "ipython",
    "version": 3
   },
   "file_extension": ".py",
   "mimetype": "text/x-python",
   "name": "python",
   "nbconvert_exporter": "python",
   "pygments_lexer": "ipython3",
   "version": "3.11.5"
  }
 },
 "nbformat": 4,
 "nbformat_minor": 5
}
