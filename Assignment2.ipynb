{
 "cells": [
  {
   "attachments": {},
   "cell_type": "markdown",
   "metadata": {},
   "source": [
    "Which keyword is used to create a function? Create a function to return a list of odd numbers in the\n",
    "range of 1 to 25."
   ]
  },
  {
   "attachments": {},
   "cell_type": "markdown",
   "metadata": {},
   "source": [
    "def is the keyword used for creating functions"
   ]
  },
  {
   "cell_type": "code",
   "execution_count": 12,
   "metadata": {},
   "outputs": [],
   "source": [
    "# Defining a function tht could ouput a list of odd numbers upto 25\n",
    "def oddlist(n):\n",
    "    oddlist=[]\n",
    "    for i in range(1,26):\n",
    "        \n",
    "        if i%2==0:\n",
    "         oddlist.append(i)\n",
    "    return oddlist\n"
   ]
  },
  {
   "cell_type": "code",
   "execution_count": 13,
   "metadata": {},
   "outputs": [
    {
     "data": {
      "text/plain": [
       "[2, 4, 6, 8, 10, 12, 14, 16, 18, 20, 22, 24]"
      ]
     },
     "execution_count": 13,
     "metadata": {},
     "output_type": "execute_result"
    }
   ],
   "source": [
    "oddlist(25)"
   ]
  },
  {
   "cell_type": "markdown",
   "metadata": {},
   "source": [
    "Q2. Why *args and **kwargs is used in some functions? Create a function each for *args and **kwargs to\n",
    "demonstrate their use."
   ]
  },
  {
   "attachments": {},
   "cell_type": "markdown",
   "metadata": {},
   "source": [
    "*args and **kwargs are used in functions to allow them to accept a variable number of arguments. Here's a brief explanation of what they do:\n",
    "\n",
    "*args allows a function to accept an arbitrary number of positional arguments. The * before args indicates that all positional arguments after the named arguments will be collected into a tuple. This is useful when you don't know how many arguments the user will pass in advance.\n",
    "\n",
    "\n",
    "**kwargs allows a function to accept an arbitrary number of keyword arguments. The ** before kwargs indicates that all keyword arguments after the named arguments will be collected into a dictionary (key and value format) This is useful when you want to allow the user to pass any number of keyword arguments with arbitrary names\n"
   ]
  },
  {
   "cell_type": "code",
   "execution_count": 17,
   "metadata": {},
   "outputs": [
    {
     "data": {
      "text/plain": [
       "'Sum is 21'"
      ]
     },
     "execution_count": 17,
     "metadata": {},
     "output_type": "execute_result"
    }
   ],
   "source": [
    "# Example of *args\n",
    "def add(*args):\n",
    "    num=0\n",
    "    for i in args:\n",
    "        num=num+i\n",
    "    return f'Sum is {num}'\n",
    "# calling the function\n",
    "add(2,5,6,4,4)"
   ]
  },
  {
   "cell_type": "code",
   "execution_count": 20,
   "metadata": {},
   "outputs": [
    {
     "data": {
      "text/plain": [
       "{'name': 'Adharsh', 'age': 27}"
      ]
     },
     "execution_count": 20,
     "metadata": {},
     "output_type": "execute_result"
    }
   ],
   "source": [
    "# Example of **kwargs\n",
    "def dictt(**kwargs):\n",
    "    return kwargs\n",
    "# Calling the function to return a dictionary\n",
    "dictt(name='Adharsh',age=27)\n"
   ]
  },
  {
   "attachments": {},
   "cell_type": "markdown",
   "metadata": {},
   "source": [
    "Q3. What is an iterator in python? Name the method used to initialise the iterator object and the method\n",
    "used for iteration. Use these methods to print the first five elements of the given list [2, 4, 6, 8, 10, 12, 14, 16,18, 20].\n",
    "\n",
    "An iterator in Python is an object that implements the iterator protocol, which consists of the __iter__ and __next__ methods. An iterator allows you to iterate over a collection of values one at a time, without having to load all the values into memory at once.\n",
    "\n",
    "The __iter__ method is used to initialize the iterator object, and the __next__ method is used to retrieve the next value from the iterator. When there are no more values to be retrieved, the __next__ method raises the StopIteration exception."
   ]
  },
  {
   "cell_type": "code",
   "execution_count": 28,
   "metadata": {},
   "outputs": [
    {
     "name": "stdout",
     "output_type": "stream",
     "text": [
      "2\n",
      "4\n",
      "6\n",
      "8\n",
      "10\n"
     ]
    }
   ],
   "source": [
    "# Initialize the list\n",
    "my_list = [2, 4, 6, 8, 10, 12, 14, 16, 18, 20]\n",
    "\n",
    "# Create an iterator object\n",
    "my_iterator = iter(my_list)\n",
    "\n",
    "# Iterate over the first five elements of the list\n",
    "for i in range(5):\n",
    "    # Get the next element from the iterator\n",
    "    element = next(my_iterator)\n",
    "    # Print the element\n",
    "    print(element)\n",
    "    \n"
   ]
  },
  {
   "attachments": {},
   "cell_type": "markdown",
   "metadata": {},
   "source": [
    "What is a generator function in python? Why yield keyword is used? Give an example of a generator\n",
    "function.\n",
    "\n",
    "A generator function is a special type of function in Python that generates a sequence of values on the fly using the yield keyword. When a generator function is called, it returns a generator object which can be iterated over using a for loop or by calling the next() function.\n",
    "\n",
    "The yield keyword is used in a generator function to produce a value and suspend the execution of the function until the next value is requested. When the next value is requested, the function resumes execution from where it left off and produces the next value.\n",
    "\n",
    "The advantage of using a generator function is that it can produce an infinite sequence of values without having to store all the values in memory at once. This makes it particularly useful for generating large sequences of values or for generating values on the fly."
   ]
  },
  {
   "cell_type": "code",
   "execution_count": 35,
   "metadata": {},
   "outputs": [],
   "source": [
    "def oddsum(n):\n",
    "    oddsu=0\n",
    "    for i in range(n+1):\n",
    "        if i % 2==0:\n",
    "            yield oddsu\n",
    "            oddsu =oddsu+i"
   ]
  },
  {
   "cell_type": "code",
   "execution_count": 39,
   "metadata": {},
   "outputs": [
    {
     "name": "stdout",
     "output_type": "stream",
     "text": [
      "0\n",
      "0\n",
      "2\n",
      "6\n"
     ]
    }
   ],
   "source": [
    "odd=oddsum(6)\n",
    "for i in odd:\n",
    "    print(i)\n"
   ]
  },
  {
   "attachments": {},
   "cell_type": "markdown",
   "metadata": {},
   "source": [
    "Q5. Create a generator function for prime numbers less than 1000. Use the next() method to print the\n",
    "first 20 prime numbers."
   ]
  },
  {
   "cell_type": "code",
   "execution_count": 155,
   "metadata": {},
   "outputs": [],
   "source": [
    "def primee(n):\n",
    "    lists=[i for i in range(n)]\n",
    "    listprime=[]\n",
    "    for i in lists:\n",
    "        if i==0 or i==1:\n",
    "            continue\n",
    "        for j in range(2,int(i//2+1)):\n",
    "            if i%j==0:\n",
    "                 \n",
    "                break\n",
    "        else:\n",
    "             listprime.append(i)\n",
    "        \n",
    "\n",
    "    \n",
    "    my_iterators = iter(listprime)\n",
    "    for i in range(20):\n",
    "    # Get the next element from the iterator\n",
    "        elements = next(my_iterators)\n",
    "        print(elements)"
   ]
  },
  {
   "cell_type": "code",
   "execution_count": 156,
   "metadata": {},
   "outputs": [
    {
     "name": "stdout",
     "output_type": "stream",
     "text": [
      "2\n",
      "3\n",
      "5\n",
      "7\n",
      "11\n",
      "13\n",
      "17\n",
      "19\n",
      "23\n",
      "29\n",
      "31\n",
      "37\n",
      "41\n",
      "43\n",
      "47\n",
      "53\n",
      "59\n",
      "61\n",
      "67\n",
      "71\n"
     ]
    }
   ],
   "source": [
    "primee(1000)"
   ]
  },
  {
   "cell_type": "code",
   "execution_count": 61,
   "metadata": {},
   "outputs": [],
   "source": [
    " lists=[i for i in range(20)]"
   ]
  },
  {
   "cell_type": "code",
   "execution_count": 62,
   "metadata": {},
   "outputs": [
    {
     "data": {
      "text/plain": [
       "[0, 1, 2, 3, 4, 5, 6, 7, 8, 9, 10, 11, 12, 13, 14, 15, 16, 17, 18, 19]"
      ]
     },
     "execution_count": 62,
     "metadata": {},
     "output_type": "execute_result"
    }
   ],
   "source": [
    "lists"
   ]
  },
  {
   "cell_type": "code",
   "execution_count": 148,
   "metadata": {},
   "outputs": [],
   "source": [
    "def primq(n):\n",
    "    lists=[i for i in range(n)]\n",
    "    for i in lists:\n",
    "        if i==0 and i==1:\n",
    "            continue\n",
    "        for j in range(2,int(n//2+1)):\n",
    "            if i%j==0:\n",
    "                    \n",
    "                break\n",
    "        else:\n",
    "             print(i)\n",
    "           \n",
    "                \n",
    "                \n",
    "        "
   ]
  },
  {
   "cell_type": "code",
   "execution_count": 149,
   "metadata": {},
   "outputs": [
    {
     "name": "stdout",
     "output_type": "stream",
     "text": [
      "1\n",
      "11\n",
      "13\n",
      "17\n",
      "19\n"
     ]
    }
   ],
   "source": [
    "primq(21)\n",
    "\n"
   ]
  },
  {
   "cell_type": "code",
   "execution_count": null,
   "metadata": {},
   "outputs": [],
   "source": []
  }
 ],
 "metadata": {
  "kernelspec": {
   "display_name": "base",
   "language": "python",
   "name": "python3"
  },
  "language_info": {
   "codemirror_mode": {
    "name": "ipython",
    "version": 3
   },
   "file_extension": ".py",
   "mimetype": "text/x-python",
   "name": "python",
   "nbconvert_exporter": "python",
   "pygments_lexer": "ipython3",
   "version": "3.8.5"
  },
  "orig_nbformat": 4
 },
 "nbformat": 4,
 "nbformat_minor": 2
}
