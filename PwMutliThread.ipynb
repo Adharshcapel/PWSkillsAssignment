{
 "cells": [
  {
   "cell_type": "markdown",
   "id": "74c75ef5",
   "metadata": {},
   "source": [
    "Q1. What is multithreading in python? hy is it used? Name the module used to handle threads in python\n",
    "\n",
    "Multithreading in Python refers to the concurrent execution of multiple threads (smaller units of a process) within a single program. Each thread runs in the same memory space, allowing them to share data easily and efficiently.\n",
    "\n",
    "- Why is Multithreading Used?\n",
    "    -    Concurrency: Multithreading allows a program to perform multiple tasks simultaneously. For instance, a web server can handle multiple client requests at the same time.\n",
    "\n",
    "    -  Responsiveness: In applications that require a user interface, multithreading can keep the interface responsive while performing background tasks.\n",
    "\n",
    "    - Resource Sharing: Since threads within the same process share the same data space, they can communicate and share resources more easily than separate processes.\n",
    "\n",
    "    - Efficient Use of Resources: Multithreading can make better use of system resources, especially in I/O-bound applications where threads can wait for I/O operations to complete while others continue processing.\n",
    "\n",
    "\n",
    "\n",
    "\n",
    "- Challenges\n",
    "\n",
    "       Global Interpreter Lock (GIL): Python's GIL allows only one thread to execute Python bytecode at a time, which can be a limitation for CPU-bound tasks. However, for I/O-bound tasks, multithreading can still provide significant performance improvements.\n",
    "\n"
   ]
  },
  {
   "cell_type": "markdown",
   "id": "be77fc84",
   "metadata": {},
   "source": [
    "##### Module Used to Handle Threads in Python\n",
    "\n",
    "- The primary module for handling threads in Python is the threading module. Here's a brief overview of how it can be used:"
   ]
  },
  {
   "cell_type": "code",
   "execution_count": 1,
   "id": "ae934c22",
   "metadata": {},
   "outputs": [
    {
     "name": "stdout",
     "output_type": "stream",
     "text": [
      "1\n",
      "2\n",
      "3\n",
      "4\n",
      "5\n",
      "a\n",
      "b\n",
      "c\n",
      "d\n",
      "e\n",
      "Done!\n"
     ]
    }
   ],
   "source": [
    "import threading\n",
    "\n",
    "def print_numbers():\n",
    "    for i in range(1, 6):\n",
    "        print(i)\n",
    "\n",
    "def print_letters():\n",
    "    for letter in ['a', 'b', 'c', 'd', 'e']:\n",
    "        print(letter)\n",
    "\n",
    "# Create two threads\n",
    "thread1 = threading.Thread(target=print_numbers)\n",
    "thread2 = threading.Thread(target=print_letters)\n",
    "\n",
    "# Start the threads\n",
    "thread1.start()\n",
    "thread2.start()\n",
    "\n",
    "# Wait for both threads to complete\n",
    "thread1.join()\n",
    "thread2.join()\n",
    "\n",
    "print(\"Done!\")\n"
   ]
  },
  {
   "cell_type": "markdown",
   "id": "39b8caf3",
   "metadata": {},
   "source": [
    "We define two functions, print_numbers and print_letters, which will be run in separate threads.\n",
    "We create two Thread objects, specifying the target functions to be executed.\n",
    "We start the threads using the start() method.\n",
    "We use the join() method to wait for both threads to complete before printing \"Done!\".\n",
    "Using the threading module, you can create and manage threads easily in Python."
   ]
  },
  {
   "cell_type": "markdown",
   "id": "f3876130",
   "metadata": {},
   "source": [
    "Q2. Why threading module used? rite the use of the following functions\n",
    "\n",
    "  activeCount()\n",
    "  \n",
    "  currentThread()\n",
    "  \n",
    "  enumerate()"
   ]
  },
  {
   "cell_type": "markdown",
   "id": "8985bd23",
   "metadata": {},
   "source": [
    "The threading module in Python is used for creating and managing threads, which allows for concurrent execution of code. Here are the uses of the specified functions in the threading module:\n",
    "\n",
    "1. threading.activeCount()\n",
    "Description:\n",
    "\n",
    "Returns the number of Thread objects currently alive. This function is useful for monitoring and debugging purposes to see how many threads are active at a given time.\n",
    "Use Case:\n",
    "\n",
    "You can use activeCount() to get the current number of active threads in your program, which can help you understand how many threads are running and manage system resources efficiently."
   ]
  },
  {
   "cell_type": "code",
   "execution_count": 2,
   "id": "fe5f4092",
   "metadata": {},
   "outputs": [
    {
     "name": "stdout",
     "output_type": "stream",
     "text": [
      "Hello from thread\n",
      "Active thread count: 6\n"
     ]
    },
    {
     "name": "stderr",
     "output_type": "stream",
     "text": [
      "C:\\Users\\Focus\\AppData\\Local\\Temp\\ipykernel_31968\\2587407247.py:11: DeprecationWarning: activeCount() is deprecated, use active_count() instead\n",
      "  print(\"Active thread count:\", threading.activeCount())\n"
     ]
    }
   ],
   "source": [
    "import threading\n",
    "\n",
    "def print_hello():\n",
    "    print(\"Hello from thread\")\n",
    "\n",
    "# Create a new thread\n",
    "thread = threading.Thread(target=print_hello)\n",
    "thread.start()\n",
    "\n",
    "# Get the number of active threads\n",
    "print(\"Active thread count:\", threading.activeCount())\n"
   ]
  },
  {
   "cell_type": "markdown",
   "id": "350183ab",
   "metadata": {},
   "source": [
    "2. threading.currentThread()\n",
    "Description:\n",
    "\n",
    "Returns the current Thread object corresponding to the caller’s thread of control. It allows you to get a reference to the thread that is currently executing.\n",
    "Use Case:\n",
    "\n",
    "You can use currentThread() to get information about the thread that is currently executing, such as its name and identifier. This can be useful for logging, debugging, and managing thread-specific data.\n",
    "Example:"
   ]
  },
  {
   "cell_type": "code",
   "execution_count": 4,
   "id": "eb64194f",
   "metadata": {},
   "outputs": [
    {
     "name": "stdout",
     "output_type": "stream",
     "text": [
      "Current thread: Thread-8 (print_thread_info)\n",
      "Current thread: MainThread\n"
     ]
    },
    {
     "name": "stderr",
     "output_type": "stream",
     "text": [
      "C:\\Users\\Focus\\AppData\\Local\\Temp\\ipykernel_31968\\176832489.py:4: DeprecationWarning: currentThread() is deprecated, use current_thread() instead\n",
      "  current_thread = threading.currentThread()\n"
     ]
    }
   ],
   "source": [
    "import threading\n",
    "\n",
    "def print_thread_info():\n",
    "    current_thread = threading.currentThread()\n",
    "    print(f\"Current thread: {current_thread.name}\")\n",
    "\n",
    "# Create a new thread\n",
    "thread = threading.Thread(target=print_thread_info)\n",
    "thread.start()\n",
    "thread.join()\n",
    "\n",
    "# Print main thread information\n",
    "print_thread_info()\n"
   ]
  },
  {
   "cell_type": "markdown",
   "id": "30862760",
   "metadata": {},
   "source": [
    "3. threading.enumerate()\n",
    "Description:\n",
    "\n",
    "Returns a list of all Thread objects currently alive. This includes daemonic threads and the main thread, but excludes terminated threads and threads that have not yet been started.\n",
    "Use Case:\n",
    "\n",
    "You can use enumerate() to get a list of all active threads in your program. This is useful for monitoring, debugging, and managing the state of multiple threads."
   ]
  },
  {
   "cell_type": "code",
   "execution_count": 5,
   "id": "07b16f4d",
   "metadata": {},
   "outputs": [
    {
     "name": "stdout",
     "output_type": "stream",
     "text": [
      "Active threads: [<_MainThread(MainThread, started 31732)>, <Thread(IOPub, started daemon 29872)>, <Heartbeat(Heartbeat, started daemon 10428)>, <ControlThread(Control, started daemon 30512)>, <HistorySavingThread(IPythonHistorySavingThread, started 3168)>, <ParentPollerWindows(Thread-4, started daemon 33872)>, <Thread(Thread-0, started 28576)>, <Thread(Thread-1, started 2572)>, <Thread(Thread-2, started 21736)>]\n",
      "Thread name: MainThread\n",
      "Thread name: IOPub\n",
      "Thread name: Heartbeat\n",
      "Thread name: Control\n",
      "Thread name: IPythonHistorySavingThread\n",
      "Thread name: Thread-4\n",
      "Thread name: Thread-0\n",
      "Thread name: Thread-1\n",
      "Thread name: Thread-2\n"
     ]
    }
   ],
   "source": [
    "import threading\n",
    "import time\n",
    "\n",
    "def worker():\n",
    "    time.sleep(1)\n",
    "\n",
    "# Create and start multiple threads\n",
    "threads = []\n",
    "for i in range(3):\n",
    "    thread = threading.Thread(target=worker, name=f\"Thread-{i}\")\n",
    "    threads.append(thread)\n",
    "    thread.start()\n",
    "\n",
    "# Enumerate all active threads\n",
    "all_threads = threading.enumerate()\n",
    "print(\"Active threads:\", all_threads)\n",
    "for thread in all_threads:\n",
    "    print(f\"Thread name: {thread.name}\")\n",
    "\n",
    "# Wait for all threads to complete\n",
    "for thread in threads:\n",
    "    thread.join()\n"
   ]
  },
  {
   "cell_type": "markdown",
   "id": "b06226bc",
   "metadata": {},
   "source": [
    "- threading.activeCount(): Returns the number of active threads. Useful for monitoring and debugging.\n",
    "- threading.currentThread(): Returns the Thread object of the currently executing thread. Useful for getting information about the current thread.\n",
    "- threading.enumerate(): Returns a list of all active Thread objects. Useful for monitoring and managing threads."
   ]
  },
  {
   "cell_type": "markdown",
   "id": "47818d97",
   "metadata": {},
   "source": [
    "3. Explain the following functions\n",
    "\n",
    "  run()\n",
    "  \n",
    " start()\n",
    " \n",
    " join()\n",
    " \n",
    "' isAlive()"
   ]
  },
  {
   "cell_type": "markdown",
   "id": "814f3e80",
   "metadata": {},
   "source": [
    "1. run()\n",
    "\n",
    "\n",
    "The run() method is the entry point for a thread. When you create a thread by subclassing threading.Thread, you override this method to define the thread's behavior.\n",
    "Use Case:\n",
    "\n",
    "You typically do not call the run() method directly. Instead, you call start(), which internally invokes run(). Overriding run() allows you to specify what the thread should do when it starts."
   ]
  },
  {
   "cell_type": "code",
   "execution_count": 6,
   "id": "763a316a",
   "metadata": {},
   "outputs": [
    {
     "name": "stdout",
     "output_type": "stream",
     "text": [
      "Thread is running\n"
     ]
    }
   ],
   "source": [
    "import threading\n",
    "\n",
    "class MyThread(threading.Thread):\n",
    "    def run(self):\n",
    "        print(\"Thread is running\")\n",
    "\n",
    "# Create and start the thread\n",
    "thread = MyThread()\n",
    "thread.start()\n"
   ]
  },
  {
   "cell_type": "markdown",
   "id": "d69b50b1",
   "metadata": {},
   "source": [
    "2. start()\n",
    "\n",
    "\n",
    "The start() method starts the thread's activity by invoking the run() method in a separate thread of control. This means that after calling start(), the code in the run() method executes in a new thread.\n",
    "Use Case:\n",
    "\n",
    "Use start() to begin the execution of a thread. It prepares the thread to run and schedules it for execution by the operating system.\n",
    "Example:"
   ]
  },
  {
   "cell_type": "code",
   "execution_count": 8,
   "id": "af316d0c",
   "metadata": {},
   "outputs": [
    {
     "name": "stdout",
     "output_type": "stream",
     "text": [
      "Hello from thread\n"
     ]
    }
   ],
   "source": [
    "import threading\n",
    "\n",
    "def print_hello():\n",
    "    print(\"Hello from thread\")\n",
    "\n",
    "# Create a new thread\n",
    "thread = threading.Thread(target=print_hello)\n",
    "\n",
    "# Start the thread\n",
    "thread.start()\n"
   ]
  },
  {
   "cell_type": "markdown",
   "id": "182033c9",
   "metadata": {},
   "source": [
    "3. join()\n",
    "\n",
    "\n",
    "The join() method blocks the calling thread until the thread whose join() method was called terminates. This means that the calling thread will wait for the thread to finish before proceeding.\n",
    "Use Case:\n",
    "\n",
    "Use join() to ensure that a thread has completed its task before the main program or another thread continues. This is useful for coordinating the completion of threads.\n",
    "Example:"
   ]
  },
  {
   "cell_type": "code",
   "execution_count": 10,
   "id": "5a99c866",
   "metadata": {},
   "outputs": [
    {
     "name": "stdout",
     "output_type": "stream",
     "text": [
      "Worker thread starting\n",
      "Worker thread finished\n",
      "Main thread continues after worker thread finishes\n"
     ]
    }
   ],
   "source": [
    "import threading\n",
    "import time\n",
    "\n",
    "def worker():\n",
    "    print(\"Worker thread starting\")\n",
    "    time.sleep(2)\n",
    "    print(\"Worker thread finished\")\n",
    "\n",
    "# Create and start the thread\n",
    "thread = threading.Thread(target=worker)\n",
    "thread.start()\n",
    "\n",
    "# Wait for the thread to complete\n",
    "thread.join()\n",
    "print(\"Main thread continues after worker thread finishes\")\n"
   ]
  },
  {
   "cell_type": "markdown",
   "id": "ed22c461",
   "metadata": {},
   "source": [
    "4. isAlive()\n",
    "\n",
    "\n",
    "The isAlive() method returns a boolean value indicating whether the thread is currently executing. It is used to check if a thread has finished its execution.\n",
    "Use Case:\n",
    "\n",
    "Use isAlive() to check the status of a thread. This can help in monitoring the progress of a thread and making decisions based on whether it is still running or has finished.\n",
    "Example:"
   ]
  },
  {
   "cell_type": "code",
   "execution_count": 11,
   "id": "dc9e1de3",
   "metadata": {},
   "outputs": [
    {
     "name": "stdout",
     "output_type": "stream",
     "text": [
      "Thread is alive: True\n",
      "Thread is alive after join: False\n"
     ]
    }
   ],
   "source": [
    "import threading\n",
    "import time\n",
    "\n",
    "def worker():\n",
    "    time.sleep(2)\n",
    "\n",
    "# Create and start the thread\n",
    "thread = threading.Thread(target=worker)\n",
    "thread.start()\n",
    "\n",
    "# Check if the thread is alive\n",
    "print(\"Thread is alive:\", thread.is_alive())\n",
    "\n",
    "# Wait for the thread to complete\n",
    "thread.join()\n",
    "print(\"Thread is alive after join:\", thread.is_alive())\n"
   ]
  },
  {
   "cell_type": "markdown",
   "id": "e3803884",
   "metadata": {},
   "source": [
    "- run(): Defines the thread's activity. It should be overridden when subclassing Thread to define the thread's behavior.\n",
    "- start(): Starts the thread's activity. It schedules the thread to run and calls the run() method in a new thread.\n",
    "- join(): Blocks the calling thread until the thread whose join() method was called terminates. It ensures that the thread has finished executing before the program continues.\n",
    "- isAlive(): Returns True if the thread is currently executing, and False otherwise. It helps in checking the status of a thread- "
   ]
  },
  {
   "cell_type": "markdown",
   "id": "84c494a6",
   "metadata": {},
   "source": [
    "Q4. write a python program to create two threads. Thread one must print the list of squares and thread\n",
    "two must print the list of cubes"
   ]
  },
  {
   "cell_type": "code",
   "execution_count": 12,
   "id": "fe866706",
   "metadata": {},
   "outputs": [
    {
     "name": "stdout",
     "output_type": "stream",
     "text": [
      "Squares: [1, 4, 9, 16, 25]\n",
      "Cubes: [1, 8, 27, 64, 125]\n",
      "Done!\n"
     ]
    }
   ],
   "source": [
    "import threading\n",
    "\n",
    "def print_squares(numbers):\n",
    "    squares = [n ** 2 for n in numbers]\n",
    "    print(\"Squares:\", squares)\n",
    "\n",
    "def print_cubes(numbers):\n",
    "    cubes = [n ** 3 for n in numbers]\n",
    "    print(\"Cubes:\", cubes)\n",
    "\n",
    "# List of numbers\n",
    "numbers = [1, 2, 3, 4, 5]\n",
    "\n",
    "# Create two threads\n",
    "thread1 = threading.Thread(target=print_squares, args=(numbers,))\n",
    "thread2 = threading.Thread(target=print_cubes, args=(numbers,))\n",
    "\n",
    "# Start the threads\n",
    "thread1.start()\n",
    "thread2.start()\n",
    "\n",
    "# Wait for both threads to complete\n",
    "thread1.join()\n",
    "thread2.join()\n",
    "\n",
    "print(\"Done!\")\n"
   ]
  },
  {
   "cell_type": "markdown",
   "id": "33730580",
   "metadata": {},
   "source": [
    "- We define the print_squares function to compute and print the squares of a list of numbers.\n",
    "- We define the print_cubes function to compute and print the cubes of a list of numbers.\n",
    "- We create a list of numbers called numbers.\n",
    "- We create two Thread objects, thread1 and thread2, specifying the target functions and their arguments.\n",
    "- We start both threads using the start() method.\n",
    "- We wait for both threads to finish using the join() method.\n",
    "- After both threads have completed, we print \"Done!\" to indicate that the program has finished execution."
   ]
  },
  {
   "cell_type": "markdown",
   "id": "e55ff831",
   "metadata": {},
   "source": [
    "Q5. State advantages and disadvantages of multithreading\n",
    "\n",
    "- <b> Advantages of Multithreading <b>\n",
    "\n",
    "    -  Improved Performance and Concurrency:\n",
    "\n",
    "    -   Efficient Utilization of CPU: Multithreading can improve the performance of an application by making better use of the CPU, especially on multi-core processors where threads can run in parallel.\n",
    "    \n",
    "    - Responsiveness: Multithreading can make applications more responsive by performing tasks like I/O operations in the background, allowing the main thread to remain responsive to user input.\n",
    "\n",
    "  \n",
    "\n",
    "    - Shared Memory: Threads within the same process share the same memory space, which makes it easier to share data between threads without the need for inter-process communication.\n",
    "Simplified Design for Certain Applications:\n",
    "\n",
    "    - Concurrent Execution: For applications that naturally fit a concurrent execution model (such as web servers handling multiple client requests), multithreading can simplify the design by allowing each client to be handled by a separate thread.\n",
    "Modularity:\n",
    "\n",
    "    - Divide and Conquer: Multithreading allows a large task to be divided into smaller tasks (threads), which can make the program design more modular and easier to manage.\n",
    "    \n",
    "    \n",
    "<b> Disadvantages of Multithreading <b> \n",
    "- Complexity and Difficult Debugging:\n",
    "\n",
    "- Synchronization Issues: Multithreading introduces complexity in managing access to shared resources. Incorrect synchronization can lead to issues like race conditions, deadlocks, and livelocks.\n",
    "\n",
    " -  Hard to Debug: Multithreaded programs can be challenging to debug because the behavior may be non-deterministic and difficult to reproduce.\n",
    "\n",
    "    - Overhead:\n",
    "\n",
    "- Context Switching: Frequent context switching between threads can lead to performance overhead, reducing the overall efficiency.\n",
    "- Resource Consumption: Each thread consumes system resources such as memory. Creating a large number of threads can lead to high memory usage and potential exhaustion of system resources.\n",
    "\n",
    "    Scalability Issues:\n",
    "\n",
    "- Limited by Hardware: The performance gains from multithreading are limited by the number of CPU cores. Beyond a certain point, adding more threads does not result in better performance.\n",
    "    \n",
    "- Global Interpreter Lock (GIL) in Python: In CPython (the standard Python implementation), the GIL ensures that only one thread executes Python bytecode at a time, which can limit the effectiveness of multithreading for CPU-bound tasks.\n",
    "Potential for Poor Performance:\n",
    "\n",
    "- False Sharing: If threads frequently update variables that are close together in memory, it can cause cache invalidation and degrade performance.\n",
    "- Priority Inversion: Lower priority threads may hold resources needed by higher priority threads, leading to inefficient scheduling."
   ]
  },
  {
   "cell_type": "markdown",
   "id": "410eb1d7",
   "metadata": {},
   "source": [
    "Q6. Explain deadlocks and race conditions.\n",
    "\n",
    "\n",
    "\n",
    "- Deadlocks\n",
    "\n",
    "- A deadlock is a situation in concurrent programming where two or more threads (or processes) are unable to proceed because each is waiting for the other to release a resource. In other words, each thread is holding a resource and waiting for another resource held by another thread, leading to a situation where none of the threads can continue executing.\n",
    "\n",
    "\n",
    "Conditions for Deadlock:\n",
    "\n",
    "- Mutual Exclusion: At least one resource must be held in a non-shareable mode. Only one thread can use the resource at any given time.\n",
    "\n",
    "- Hold and Wait: A thread holding at least one resource is waiting to acquire additional resources held by other threads.\n",
    "\n",
    "- No Preemption: Resources cannot be forcibly taken from threads holding them; they must be released voluntarily.\n",
    "\n",
    "- Circular Wait: There exists a set of threads {T1, T2, ..., Tn} such that T1 is waiting for a resource held by T2, T2 is waiting for a resource held by T3, ..., and Tn is waiting for a resource held by T1.\n",
    "- Example:\n",
    "\n",
    "- Consider two threads and two resources, A and B:\n",
    "\n",
    "- Thread 1 holds resource A and waits for resource B.\n",
    "- Thread 2 holds resource B and waits for resource A.\n",
    "\n",
    "- Both threads will wait indefinitely for each other to release the required resources, resulting in a deadlock.\n",
    "\n",
    "- How to Avoid Deadlocks:\n",
    "\n",
    "- Resource Ordering: Impose a strict order in which resources must be acquired and ensure that all threads acquire resources in this order.\n",
    "\n",
    "- Deadlock Detection: Allow the system to enter a deadlock state and then detect and resolve it, typically by terminating one or more threads or processes.\n",
    "\n",
    "- Deadlock Prevention: Modify the system to eliminate one of the necessary conditions for deadlock, such as ensuring that a thread cannot hold one resource while waiting for another.\n",
    "\n",
    "<b>  Race Conditions <b>\n",
    "Definition:\n",
    "A race condition occurs when the behavior of a software system depends on the relative timing or interleaving of multiple threads or processes. In other words, the outcome of the execution depends on the unpredictable order in which threads are scheduled and run.\n",
    "\n",
    "Cause:\n",
    "Race conditions occur when multiple threads or processes access shared data concurrently and try to change it at the same time, leading to unexpected and incorrect behavior.\n",
    "\n",
    "Example:\n",
    "Consider two threads incrementing a shared counter variable:"
   ]
  },
  {
   "cell_type": "code",
   "execution_count": null,
   "id": "39d527e8",
   "metadata": {},
   "outputs": [],
   "source": []
  }
 ],
 "metadata": {
  "kernelspec": {
   "display_name": "Python 3 (ipykernel)",
   "language": "python",
   "name": "python3"
  },
  "language_info": {
   "codemirror_mode": {
    "name": "ipython",
    "version": 3
   },
   "file_extension": ".py",
   "mimetype": "text/x-python",
   "name": "python",
   "nbconvert_exporter": "python",
   "pygments_lexer": "ipython3",
   "version": "3.11.5"
  }
 },
 "nbformat": 4,
 "nbformat_minor": 5
}
