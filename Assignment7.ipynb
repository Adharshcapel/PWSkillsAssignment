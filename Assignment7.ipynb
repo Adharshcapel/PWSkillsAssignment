{
 "cells": [
  {
   "attachments": {},
   "cell_type": "markdown",
   "metadata": {},
   "source": [
    "Create a function which will take a list as an argument and return the product of all the numbers\n",
    "after creating a flat list.\n",
    "Use the below-given list as an argument for your function.\n",
    "\n",
    "\n",
    "\n",
    "list1 = [1,2,3,4, [44,55,66, True], False, (34,56,78,89,34), {1,2,3,3,2,1}, {1:34, \"key2\": [55, 67, 78, 89], 4: (45,\n",
    "22, 61, 34)}, [56, 'data science'], 'Machine Learning']"
   ]
  },
  {
   "cell_type": "code",
   "execution_count": 4,
   "metadata": {},
   "outputs": [],
   "source": [
    "def flatlist(lst):\n",
    "    flatli=[]\n",
    "    for i in lst:\n",
    "         # check if element is list or number \n",
    "        if type(i) == list or type(i) == tuple or type(i) == set or type(i) == dict:\n",
    "            for j in i:\n",
    "                if type(j)==int or type(j)==float:\n",
    "                    flatli.append(i)\n",
    "                elif type(j)==dict:\n",
    "                    \n",
    "                    for k,v in j.items():\n",
    "                        if type(v) == int or type(v) == float:\n",
    "                            flat_list.append(v)\n",
    "\n",
    "                elif type(j) == list or type(j) == tuple:\n",
    "                    for k in j:\n",
    "                        if type(k) == int or type(k) == float:\n",
    "                            flat_list.append(k)\n",
    "    else: \n",
    "        # check if element is number \n",
    "        if type(i) == int or type(i) == float: \n",
    "            flat_list.append(i)\n",
    "\n",
    "    return(flatli)  "
   ]
  },
  {
   "cell_type": "code",
   "execution_count": 5,
   "metadata": {},
   "outputs": [
    {
     "data": {
      "text/plain": [
       "[[44, 55, 66, True],\n",
       " [44, 55, 66, True],\n",
       " [44, 55, 66, True],\n",
       " (34, 56, 78, 89, 34),\n",
       " (34, 56, 78, 89, 34),\n",
       " (34, 56, 78, 89, 34),\n",
       " (34, 56, 78, 89, 34),\n",
       " (34, 56, 78, 89, 34),\n",
       " {1, 2, 3},\n",
       " {1, 2, 3},\n",
       " {1, 2, 3},\n",
       " {1: 34, 'key2': [55, 67, 78, 89], 4: (45, 22, 61, 34)},\n",
       " {1: 34, 'key2': [55, 67, 78, 89], 4: (45, 22, 61, 34)},\n",
       " [56, 'data science']]"
      ]
     },
     "execution_count": 5,
     "metadata": {},
     "output_type": "execute_result"
    }
   ],
   "source": [
    "list1 = [1,2,3,4, [44,55,66, True], False, (34,56,78,89,34), {1,2,3,3,2,1}, {1:34, \"key2\": [55, 67, 78, 89], 4: (45,\n",
    "22, 61, 34)}, [56, 'data science'], 'Machine Learning']\n",
    "flatlist(list1)"
   ]
  },
  {
   "attachments": {},
   "cell_type": "markdown",
   "metadata": {},
   "source": [
    "\n"
   ]
  }
 ],
 "metadata": {
  "kernelspec": {
   "display_name": "base",
   "language": "python",
   "name": "python3"
  },
  "language_info": {
   "codemirror_mode": {
    "name": "ipython",
    "version": 3
   },
   "file_extension": ".py",
   "mimetype": "text/x-python",
   "name": "python",
   "nbconvert_exporter": "python",
   "pygments_lexer": "ipython3",
   "version": "3.8.5"
  },
  "orig_nbformat": 4
 },
 "nbformat": 4,
 "nbformat_minor": 2
}
