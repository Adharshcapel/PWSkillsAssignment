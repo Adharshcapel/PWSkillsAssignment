{
 "cells": [
  {
   "cell_type": "markdown",
   "id": "6a2382a2",
   "metadata": {},
   "source": [
    "Q1. Create a function which will take a list as an argument and return the product of all the numbers\n",
    "after creating a flat list.\n",
    "\n",
    "Use the below-given list as an argument for your function.\n",
    "list1 = [1,2,3,4, [44,55,66, True], False, (34,56,78,89,34), {1,2,3,3,2,1}, {1:34, \"key2\": [55, 67, 78, 89], 4: (45,\n",
    "22, 61, 34)}, [56, 'data science'], 'Machine Learning']\n",
    "\n",
    "Note: you must extract numeric keys and values of the dictionary also."
   ]
  },
  {
   "cell_type": "code",
   "execution_count": 1,
   "id": "64eb1396",
   "metadata": {},
   "outputs": [],
   "source": [
    "list1 = [1, 2, 3, 4, [44, 55, 66, True], False, (34, 56, 78, 89, 34), {1, 2, 3, 3, 2, 1},\n",
    "         {1: 34, \"key2\": [55, 67, 78, 89], 4: (45, 22, 61, 34)}, [56, 'data science'], 'Machine Learning']"
   ]
  },
  {
   "cell_type": "code",
   "execution_count": 112,
   "id": "038e0145",
   "metadata": {},
   "outputs": [
    {
     "name": "stdout",
     "output_type": "stream",
     "text": [
      "Product of all numbers after flattening the list (excluding booleans): 746826259789209600\n"
     ]
    }
   ],
   "source": [
    "def flatten_and_multiply(lst):\n",
    "    flattened_list = []\n",
    "\n",
    "    # Function to flatten the list and extract numeric values\n",
    "    def flatten_and_extract(lst):\n",
    "        for item in lst:\n",
    "            if isinstance(item, list):\n",
    "                flatten_and_extract(item)\n",
    "            elif isinstance(item, dict):\n",
    "                for key, value in item.items():\n",
    "                    if isinstance(key, (int, float)):\n",
    "                        flattened_list.append(key)\n",
    "                    if isinstance(value, (int, float)):\n",
    "                        flattened_list.append(value)\n",
    "                    elif isinstance(value, (list, dict)):\n",
    "                        flatten_and_extract(value)\n",
    "            elif isinstance(item, (int, float)):\n",
    "                flattened_list.append(item)\n",
    "\n",
    "    # Flatten the list and extract numeric values\n",
    "    flatten_and_extract(lst)\n",
    "\n",
    "    # Remove boolean values from the flattened list\n",
    "    flattened_list = [x for x in flattened_list if not isinstance(x, bool)]\n",
    "\n",
    "    # Calculate the product of all numbers in the flattened list\n",
    "    product = 1\n",
    "    for num in flattened_list:\n",
    "        product *= num\n",
    "\n",
    "    return product\n",
    "\n",
    "# Given list\n",
    "list1 = [1, 2, 3, 4, [44, 55, 66, True], False, (34, 56, 78, 89, 34), {1, 2, 3, 3, 2, 1},\n",
    "         {1: 34, \"key2\": [55, 67, 78, 89], 4: (45, 22, 61, 34)}, [56, 'data science'], 'Machine Learning']\n",
    "\n",
    "# Calculate the product of all numbers after flattening the list\n",
    "result = flatten_and_multiply(list1)\n",
    "print(\"Product of all numbers after flattening the list (excluding booleans):\", result)\n"
   ]
  },
  {
   "cell_type": "markdown",
   "id": "edf4c2be",
   "metadata": {},
   "source": [
    "Q2. Write a python program for encrypting a message sent to you by your friend. The logic of encryption\n",
    "should be such that, for a the output should be z. For b, the output should be y. For c, the output should\n",
    "be x respectively. Also, the whitespace should be replaced with a dollar sign. Keep the punctuation\n",
    "marks unchanged.\n",
    "Input Sentence: I want to become a Data Scientist.\n",
    "Encrypt the above input sentence using the program you just created.\n",
    "Note: Convert the given input sentence into lowercase before encrypting. The final output should be\n",
    "lowercase."
   ]
  },
  {
   "cell_type": "code",
   "execution_count": 113,
   "id": "3de2387e",
   "metadata": {},
   "outputs": [
    {
     "name": "stdout",
     "output_type": "stream",
     "text": [
      "Encrypted sentence: r$dzmg$gl$yvxlnv$z$wzgz$hxrvmgrhg.\n"
     ]
    }
   ],
   "source": [
    "def encrypt_message(message):\n",
    "    alphabet = 'abcdefghijklmnopqrstuvwxyz'\n",
    "    encrypted_message = ''\n",
    "    for char in message:\n",
    "        if char.isalpha():  \n",
    "            char_index = alphabet.index(char.lower())\n",
    "            encrypted_char = alphabet[(char_index + 1) * -1]\n",
    "        elif char.isspace(): \n",
    "            encrypted_char = '$'  \n",
    "        else:\n",
    "            encrypted_char = char \n",
    "        encrypted_message += encrypted_char\n",
    "    return encrypted_message\n",
    "\n",
    "# Input sentence\n",
    "input_sentence = \"I want to become a Data Scientist.\"\n",
    "\n",
    "# Convert input sentence to lowercase\n",
    "input_sentence_lower = input_sentence.lower()\n",
    "\n",
    "# Encrypt the input sentence\n",
    "encrypted_sentence = encrypt_message(input_sentence_lower)\n",
    "\n",
    "print(\"Encrypted sentence:\", encrypted_sentence)\n"
   ]
  },
  {
   "cell_type": "code",
   "execution_count": 120,
   "id": "0979f6a0",
   "metadata": {},
   "outputs": [
    {
     "name": "stdout",
     "output_type": "stream",
     "text": [
      "0\n",
      "1\n",
      "2\n",
      "3\n",
      "4\n",
      "5\n",
      "6\n",
      "7\n",
      "8\n",
      "9\n",
      "10\n",
      "11\n",
      "12\n",
      "13\n",
      "14\n",
      "15\n",
      "16\n",
      "17\n",
      "18\n",
      "19\n",
      "20\n",
      "21\n",
      "22\n",
      "23\n",
      "24\n",
      "25\n"
     ]
    }
   ],
   "source": [
    "alphabet = 'abcdefghijklmnopqrstuvwxyz'\n",
    "for i in alphabet:\n",
    "    a=alphabet.index(i)\n",
    "    print(a)\n",
    "    "
   ]
  },
  {
   "cell_type": "code",
   "execution_count": null,
   "id": "802643f5",
   "metadata": {},
   "outputs": [],
   "source": []
  }
 ],
 "metadata": {
  "kernelspec": {
   "display_name": "Python 3 (ipykernel)",
   "language": "python",
   "name": "python3"
  },
  "language_info": {
   "codemirror_mode": {
    "name": "ipython",
    "version": 3
   },
   "file_extension": ".py",
   "mimetype": "text/x-python",
   "name": "python",
   "nbconvert_exporter": "python",
   "pygments_lexer": "ipython3",
   "version": "3.11.5"
  }
 },
 "nbformat": 4,
 "nbformat_minor": 5
}
